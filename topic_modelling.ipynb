{
 "cells": [
  {
   "cell_type": "code",
   "execution_count": 1,
   "metadata": {},
   "outputs": [],
   "source": [
    "import pandas as pd\n",
    "import pickle\n",
    "import numpy as np\n",
    "\n",
    "from bertopic import BERTopic"
   ]
  },
  {
   "cell_type": "code",
   "execution_count": 2,
   "metadata": {},
   "outputs": [],
   "source": [
    "with open('CleanedControversialPostsFuturology.csv', 'rb') as f:\n",
    "  df = pd.read_csv(f)"
   ]
  },
  {
   "cell_type": "code",
   "execution_count": 3,
   "metadata": {},
   "outputs": [
    {
     "name": "stdout",
     "output_type": "stream",
     "text": [
      "(974, 11)\n"
     ]
    }
   ],
   "source": [
    "df = df.dropna(axis=0, subset=['selftext'])\n",
    "df = df.dropna(axis=0, subset=['created_datetime'])\n",
    "df['flair_text'] = np.where(df['flair_text'].isna(), 'unknown', df['flair_text']) #replace empty flair text fileds with unknown\n",
    "\n",
    "posts = df.selftext.to_list()\n",
    "flairs = df.flair_text.to_list()\n",
    "timestamps = df['created_datetime'].apply(lambda x: pd.Timestamp(x))\n",
    "topic_model = BERTopic(n_gram_range=(1,2)) #only unigram and bigram terms\n",
    "topics, _ = topic_model.fit_transform(posts)\n",
    "topics_over_time = topic_model.topics_over_time(docs=posts, \n",
    "                                                timestamps=timestamps, \n",
    "                                                global_tuning=True, \n",
    "                                                evolution_tuning=True, \n",
    "                                                nr_bins=20)"
   ]
  },
  {
   "cell_type": "code",
   "execution_count": 4,
   "metadata": {},
   "outputs": [
    {
     "data": {
      "text/html": [
       "<div>\n",
       "<style scoped>\n",
       "    .dataframe tbody tr th:only-of-type {\n",
       "        vertical-align: middle;\n",
       "    }\n",
       "\n",
       "    .dataframe tbody tr th {\n",
       "        vertical-align: top;\n",
       "    }\n",
       "\n",
       "    .dataframe thead th {\n",
       "        text-align: right;\n",
       "    }\n",
       "</style>\n",
       "<table border=\"1\" class=\"dataframe\">\n",
       "  <thead>\n",
       "    <tr style=\"text-align: right;\">\n",
       "      <th></th>\n",
       "      <th>Topic</th>\n",
       "      <th>Count</th>\n",
       "      <th>Name</th>\n",
       "    </tr>\n",
       "  </thead>\n",
       "  <tbody>\n",
       "    <tr>\n",
       "      <th>0</th>\n",
       "      <td>-1</td>\n",
       "      <td>355</td>\n",
       "      <td>-1_people_years_new_think</td>\n",
       "    </tr>\n",
       "    <tr>\n",
       "      <th>1</th>\n",
       "      <td>0</td>\n",
       "      <td>68</td>\n",
       "      <td>0_ai_artificial intelligence_intelligence_arti...</td>\n",
       "    </tr>\n",
       "    <tr>\n",
       "      <th>2</th>\n",
       "      <td>1</td>\n",
       "      <td>51</td>\n",
       "      <td>1_reality_iphone_think_vr</td>\n",
       "    </tr>\n",
       "    <tr>\n",
       "      <th>3</th>\n",
       "      <td>2</td>\n",
       "      <td>48</td>\n",
       "      <td>2_world_people_human_one</td>\n",
       "    </tr>\n",
       "    <tr>\n",
       "      <th>4</th>\n",
       "      <td>3</td>\n",
       "      <td>45</td>\n",
       "      <td>3_robots_robot_jobs_take jobs</td>\n",
       "    </tr>\n",
       "    <tr>\n",
       "      <th>5</th>\n",
       "      <td>4</td>\n",
       "      <td>34</td>\n",
       "      <td>4_climate_climate change_change_human</td>\n",
       "    </tr>\n",
       "    <tr>\n",
       "      <th>6</th>\n",
       "      <td>5</td>\n",
       "      <td>34</td>\n",
       "      <td>5_reddit_sub_posts_futurology</td>\n",
       "    </tr>\n",
       "    <tr>\n",
       "      <th>7</th>\n",
       "      <td>6</td>\n",
       "      <td>30</td>\n",
       "      <td>6_meat_dairy_lab_vegan</td>\n",
       "    </tr>\n",
       "    <tr>\n",
       "      <th>8</th>\n",
       "      <td>7</td>\n",
       "      <td>30</td>\n",
       "      <td>7_musk_elon musk_elon_spacex</td>\n",
       "    </tr>\n",
       "    <tr>\n",
       "      <th>9</th>\n",
       "      <td>8</td>\n",
       "      <td>28</td>\n",
       "      <td>8_solar_tesla_fuel_hydrogen</td>\n",
       "    </tr>\n",
       "    <tr>\n",
       "      <th>10</th>\n",
       "      <td>9</td>\n",
       "      <td>26</td>\n",
       "      <td>9_driving_self driving_self_car</td>\n",
       "    </tr>\n",
       "    <tr>\n",
       "      <th>11</th>\n",
       "      <td>10</td>\n",
       "      <td>24</td>\n",
       "      <td>10_bitcoin_future_is_data</td>\n",
       "    </tr>\n",
       "    <tr>\n",
       "      <th>12</th>\n",
       "      <td>11</td>\n",
       "      <td>23</td>\n",
       "      <td>11_look_year_thought year_hottest</td>\n",
       "    </tr>\n",
       "    <tr>\n",
       "      <th>13</th>\n",
       "      <td>12</td>\n",
       "      <td>22</td>\n",
       "      <td>12_aging_fasting_life_cells</td>\n",
       "    </tr>\n",
       "    <tr>\n",
       "      <th>14</th>\n",
       "      <td>13</td>\n",
       "      <td>22</td>\n",
       "      <td>13_time_life_travel_one</td>\n",
       "    </tr>\n",
       "    <tr>\n",
       "      <th>15</th>\n",
       "      <td>14</td>\n",
       "      <td>20</td>\n",
       "      <td>14_nuclear_energy_http_lenr</td>\n",
       "    </tr>\n",
       "    <tr>\n",
       "      <th>16</th>\n",
       "      <td>15</td>\n",
       "      <td>19</td>\n",
       "      <td>15_quantum_universes_time_physicists</td>\n",
       "    </tr>\n",
       "    <tr>\n",
       "      <th>17</th>\n",
       "      <td>16</td>\n",
       "      <td>16</td>\n",
       "      <td>16_sex_sex robots_woman_robots</td>\n",
       "    </tr>\n",
       "    <tr>\n",
       "      <th>18</th>\n",
       "      <td>17</td>\n",
       "      <td>16</td>\n",
       "      <td>17_china_guns_army_usa</td>\n",
       "    </tr>\n",
       "    <tr>\n",
       "      <th>19</th>\n",
       "      <td>18</td>\n",
       "      <td>14</td>\n",
       "      <td>18_scientists_aliens_ufos_laser</td>\n",
       "    </tr>\n",
       "    <tr>\n",
       "      <th>20</th>\n",
       "      <td>19</td>\n",
       "      <td>13</td>\n",
       "      <td>19_basic income_basic_income_universal</td>\n",
       "    </tr>\n",
       "    <tr>\n",
       "      <th>21</th>\n",
       "      <td>20</td>\n",
       "      <td>12</td>\n",
       "      <td>20_coronavirus_university_pandemic_boston univ...</td>\n",
       "    </tr>\n",
       "    <tr>\n",
       "      <th>22</th>\n",
       "      <td>21</td>\n",
       "      <td>12</td>\n",
       "      <td>21_collapse_civilization_humans_modern</td>\n",
       "    </tr>\n",
       "    <tr>\n",
       "      <th>23</th>\n",
       "      <td>22</td>\n",
       "      <td>12</td>\n",
       "      <td>22_mars_mars one_mission_one</td>\n",
       "    </tr>\n",
       "  </tbody>\n",
       "</table>\n",
       "</div>"
      ],
      "text/plain": [
       "    Topic  Count                                               Name\n",
       "0      -1    355                          -1_people_years_new_think\n",
       "1       0     68  0_ai_artificial intelligence_intelligence_arti...\n",
       "2       1     51                          1_reality_iphone_think_vr\n",
       "3       2     48                           2_world_people_human_one\n",
       "4       3     45                      3_robots_robot_jobs_take jobs\n",
       "5       4     34              4_climate_climate change_change_human\n",
       "6       5     34                      5_reddit_sub_posts_futurology\n",
       "7       6     30                             6_meat_dairy_lab_vegan\n",
       "8       7     30                       7_musk_elon musk_elon_spacex\n",
       "9       8     28                        8_solar_tesla_fuel_hydrogen\n",
       "10      9     26                    9_driving_self driving_self_car\n",
       "11     10     24                          10_bitcoin_future_is_data\n",
       "12     11     23                  11_look_year_thought year_hottest\n",
       "13     12     22                        12_aging_fasting_life_cells\n",
       "14     13     22                            13_time_life_travel_one\n",
       "15     14     20                        14_nuclear_energy_http_lenr\n",
       "16     15     19               15_quantum_universes_time_physicists\n",
       "17     16     16                     16_sex_sex robots_woman_robots\n",
       "18     17     16                             17_china_guns_army_usa\n",
       "19     18     14                    18_scientists_aliens_ufos_laser\n",
       "20     19     13             19_basic income_basic_income_universal\n",
       "21     20     12  20_coronavirus_university_pandemic_boston univ...\n",
       "22     21     12             21_collapse_civilization_humans_modern\n",
       "23     22     12                       22_mars_mars one_mission_one"
      ]
     },
     "execution_count": 4,
     "metadata": {},
     "output_type": "execute_result"
    }
   ],
   "source": [
    "topic_model.get_topic_info()"
   ]
  },
  {
   "cell_type": "code",
   "execution_count": 5,
   "metadata": {},
   "outputs": [
    {
     "data": {
      "text/plain": [
       "{-1: [('people', 0.012704964126552833),\n",
       "  ('years', 0.008137399899906984),\n",
       "  ('new', 0.007307168083551476),\n",
       "  ('think', 0.0071732298973634385),\n",
       "  ('future', 0.007010266834350849),\n",
       "  ('human', 0.0063999716738248995),\n",
       "  ('world', 0.006247961326273264),\n",
       "  ('even', 0.006018938726631929),\n",
       "  ('many', 0.005765170641780116),\n",
       "  ('humans', 0.0057596197636402184)],\n",
       " 0: [('ai', 0.08281503774695712),\n",
       "  ('artificial intelligence', 0.05736464089038085),\n",
       "  ('intelligence', 0.056597090338166546),\n",
       "  ('artificial', 0.05492365699161981),\n",
       "  ('human', 0.02465172213358898),\n",
       "  ('google', 0.01813851824053835),\n",
       "  ('smarter', 0.015959468479810668),\n",
       "  ('computer', 0.015871203460471054),\n",
       "  ('intelligence ai', 0.015367771982843182),\n",
       "  ('threat', 0.01479806974204694)],\n",
       " 1: [('reality', 0.017826835939489527),\n",
       "  ('iphone', 0.017736835017091526),\n",
       "  ('think', 0.016785286389940066),\n",
       "  ('vr', 0.016306802414419615),\n",
       "  ('virtual reality', 0.01569599656013873),\n",
       "  ('technology', 0.015531109678299768),\n",
       "  ('future', 0.015291821943453191),\n",
       "  ('virtual', 0.014760479001164317),\n",
       "  ('apple', 0.01463940744932934),\n",
       "  ('phone', 0.01397725921235967)],\n",
       " 2: [('world', 0.014918700668273978),\n",
       "  ('people', 0.014014218300444947),\n",
       "  ('human', 0.008181094220647266),\n",
       "  ('one', 0.007174871005122097),\n",
       "  ('want', 0.006966759428500108),\n",
       "  ('civilization', 0.006904503635917577),\n",
       "  ('money', 0.0065735975305366),\n",
       "  ('cities', 0.006387517588025065),\n",
       "  ('russia', 0.006368505501636431),\n",
       "  ('much', 0.0062868655248386265)],\n",
       " 3: [('robots', 0.0977284517731348),\n",
       "  ('robot', 0.08858257684914082),\n",
       "  ('jobs', 0.07107523765318895),\n",
       "  ('take jobs', 0.03316382174861075),\n",
       "  ('killer robots', 0.02958922456804904),\n",
       "  ('killer', 0.02958922456804904),\n",
       "  ('automation', 0.029191518244415186),\n",
       "  ('take', 0.028789510442307077),\n",
       "  ('first', 0.023987931508607153),\n",
       "  ('wage', 0.02219191842603678)],\n",
       " 4: [('climate', 0.036773356581057036),\n",
       "  ('climate change', 0.018917156608151065),\n",
       "  ('change', 0.01781624161105082),\n",
       "  ('human', 0.017524105564555276),\n",
       "  ('increasingly', 0.014407594328129313),\n",
       "  ('https', 0.013701131707374636),\n",
       "  ('global', 0.012686251716986676),\n",
       "  ('computers', 0.011845719671417695),\n",
       "  ('personality', 0.010885359776353173),\n",
       "  ('disease', 0.010393009125574407)],\n",
       " 5: [('reddit', 0.026662901713472218),\n",
       "  ('sub', 0.025553380849475685),\n",
       "  ('posts', 0.019356162007395532),\n",
       "  ('futurology', 0.016620427625881746),\n",
       "  ('future', 0.015850070249245257),\n",
       "  ('community', 0.015484929605916424),\n",
       "  ('see', 0.013079700969744808),\n",
       "  ('subreddits', 0.011503248960702688),\n",
       "  ('really', 0.01143318344758905),\n",
       "  ('discussion', 0.0112015441558805)],\n",
       " 6: [('meat', 0.15737820773140535),\n",
       "  ('dairy', 0.06590354241640868),\n",
       "  ('lab', 0.04890143980854213),\n",
       "  ('vegan', 0.04090363783210445),\n",
       "  ('food', 0.039991622324397194),\n",
       "  ('lab grown', 0.03954212544984521),\n",
       "  ('obsolete', 0.03531645239049003),\n",
       "  ('grown', 0.03531645239049003),\n",
       "  ('meat dairy', 0.03008998059330654),\n",
       "  ('meat free', 0.03008998059330654)],\n",
       " 7: [('musk', 0.1981101336011406),\n",
       "  ('elon musk', 0.19157707954087969),\n",
       "  ('elon', 0.19074718516199987),\n",
       "  ('spacex', 0.06788136050967662),\n",
       "  ('trump', 0.035661956999547724),\n",
       "  ('is', 0.033973731333954836),\n",
       "  ('hyperloop', 0.03136540160884329),\n",
       "  ('rico', 0.023867819824416017),\n",
       "  ('puerto', 0.023867819824416017),\n",
       "  ('ever elon', 0.023867819824416017)],\n",
       " 8: [('solar', 0.09140946506889633),\n",
       "  ('tesla', 0.07146733517870234),\n",
       "  ('fuel', 0.04972206264894405),\n",
       "  ('hydrogen', 0.047861732120746396),\n",
       "  ('evs', 0.04177573827470262),\n",
       "  ('cars', 0.040545874369842326),\n",
       "  ('solar powered', 0.03267676135954628),\n",
       "  ('solar car', 0.03267676135954628),\n",
       "  ('blah', 0.03267676135954628),\n",
       "  ('power', 0.029129086275466235)],\n",
       " 9: [('driving', 0.0917426033255899),\n",
       "  ('self driving', 0.08603379006733237),\n",
       "  ('self', 0.06962478504552475),\n",
       "  ('car', 0.06312282008957033),\n",
       "  ('cars', 0.05420723552934362),\n",
       "  ('vehicles', 0.043360885789263406),\n",
       "  ('traffic', 0.03767022420259393),\n",
       "  ('driving cars', 0.03414477665812598),\n",
       "  ('road', 0.03414477665812598),\n",
       "  ('passengers', 0.02945041121861812)],\n",
       " 10: [('bitcoin', 0.10519798266798518),\n",
       "  ('future', 0.04966289956684927),\n",
       "  ('is', 0.04858355705281397),\n",
       "  ('data', 0.04609097499358827),\n",
       "  ('government', 0.04547803578537465),\n",
       "  ('web', 0.045030690268300665),\n",
       "  ('centralized', 0.039769675595174823),\n",
       "  ('banks', 0.03844590811064158),\n",
       "  ('currency', 0.03736464695589504),\n",
       "  ('blockchain', 0.03736464695589504)],\n",
       " 11: [('look', 0.10454883956687035),\n",
       "  ('year', 0.08137671108993276),\n",
       "  ('thought year', 0.07350338542942046),\n",
       "  ('hottest', 0.07350338542942046),\n",
       "  ('people thought', 0.07350338542942046),\n",
       "  ('here', 0.07208274253369405),\n",
       "  ('thought', 0.061856044519354655),\n",
       "  ('american', 0.05570569113431219),\n",
       "  ('future', 0.055455531854635455),\n",
       "  ('top', 0.04926590750621647)],\n",
       " 12: [('aging', 0.06902991106191124),\n",
       "  ('fasting', 0.0447867528958238),\n",
       "  ('life', 0.022312250800626827),\n",
       "  ('cells', 0.019484543578158726),\n",
       "  ('process', 0.019209856152760996),\n",
       "  ('stem', 0.018246617388633982),\n",
       "  ('cure', 0.01796834191333729),\n",
       "  ('intestinal', 0.01730320652244566),\n",
       "  ('effects', 0.01685538789343137),\n",
       "  ('diseases', 0.015401435925717676)],\n",
       " 13: [('time', 0.017518707514813128),\n",
       "  ('life', 0.013410486563319366),\n",
       "  ('travel', 0.011798233954215389),\n",
       "  ('one', 0.010862436444166814),\n",
       "  ('quantum', 0.010356001554843229),\n",
       "  ('able', 0.008428526768992313),\n",
       "  ('brain', 0.008237094460130361),\n",
       "  ('thought', 0.008130171619022583),\n",
       "  ('dimension', 0.007782491854860403),\n",
       "  ('ai', 0.007764332867072077)],\n",
       " 14: [('nuclear', 0.06756013895610406),\n",
       "  ('energy', 0.04424395754760537),\n",
       "  ('http', 0.039431320360182404),\n",
       "  ('lenr', 0.03647328011888162),\n",
       "  ('cat', 0.032798396981424144),\n",
       "  ('power', 0.03227449447318308),\n",
       "  ('com', 0.02838053367982737),\n",
       "  ('fusion', 0.02768118135577205),\n",
       "  ('nuclear power', 0.026446941724042612),\n",
       "  ('http www', 0.02587728738041473)],\n",
       " 15: [('quantum', 0.08374572815426483),\n",
       "  ('universes', 0.07127156454287817),\n",
       "  ('time', 0.06439467225313618),\n",
       "  ('physicists', 0.05500052010162606),\n",
       "  ('quantum computer', 0.05500052010162606),\n",
       "  ('neptune', 0.04185320246831024),\n",
       "  ('parallel', 0.03955770355329399),\n",
       "  ('computer', 0.037632286958680664),\n",
       "  ('computers', 0.037419722395461395),\n",
       "  ('matter time', 0.03666701340108404)],\n",
       " 16: [('sex', 0.1563125848616372),\n",
       "  ('sex robots', 0.12812558963676737),\n",
       "  ('woman', 0.10021915804530701),\n",
       "  ('robots', 0.07694149530638277),\n",
       "  ('robot', 0.06392921215986638),\n",
       "  ('gender', 0.05025509363714807),\n",
       "  ('women', 0.048708731365814134),\n",
       "  ('will', 0.04697580517052397),\n",
       "  ('humanity need', 0.0386599414868817),\n",
       "  ('genderless ai', 0.0386599414868817)],\n",
       " 17: [('china', 0.15061065725437328),\n",
       "  ('guns', 0.07410954308325934),\n",
       "  ('army', 0.071642743896214),\n",
       "  ('usa', 0.06197515083762038),\n",
       "  ('guns china', 0.05451727111185798),\n",
       "  ('printed guns', 0.05451727111185798),\n",
       "  ('printed', 0.04641856509895939),\n",
       "  ('combined', 0.04265775676194491),\n",
       "  ('printing', 0.04265775676194491),\n",
       "  ('power', 0.041339655282451336)],\n",
       " 18: [('scientists', 0.10711382019060293),\n",
       "  ('aliens', 0.10511367514826955),\n",
       "  ('ufos', 0.08087183023733269),\n",
       "  ('laser', 0.0775431898670397),\n",
       "  ('laser communication', 0.057043167842909324),\n",
       "  ('comet', 0.057043167842909324),\n",
       "  ('philae comet', 0.057043167842909324),\n",
       "  ('philae', 0.057043167842909324),\n",
       "  ('navy', 0.05391455349155513),\n",
       "  ('alien life', 0.05391455349155513)],\n",
       " 19: [('basic income', 0.22044821674504717),\n",
       "  ('basic', 0.21684201245720308),\n",
       "  ('income', 0.21259620061341028),\n",
       "  ('universal', 0.14002853910721727),\n",
       "  ('universal basic', 0.1124538140319754),\n",
       "  ('income basic', 0.08150118300182554),\n",
       "  ('sweden', 0.07342080432967701),\n",
       "  ('lease', 0.05748708354596698),\n",
       "  ('income is', 0.05748708354596698),\n",
       "  ('pro', 0.048947202886451345)],\n",
       " 20: [('coronavirus', 0.10259865223787118),\n",
       "  ('university', 0.08712834707084993),\n",
       "  ('pandemic', 0.0664382303591211),\n",
       "  ('boston university', 0.05660605544564564),\n",
       "  ('strain', 0.05129932611893559),\n",
       "  ('boston', 0.04819705418321071),\n",
       "  ('covid', 0.045997331314165106),\n",
       "  ('researchers', 0.04509714694705),\n",
       "  ('friend', 0.04429215357274739),\n",
       "  ('cure', 0.042899785126424325)],\n",
       " 21: [('collapse', 0.1464859084134543),\n",
       "  ('civilization', 0.11357085189903153),\n",
       "  ('humans', 0.06310200668794178),\n",
       "  ('modern', 0.06286359399994701),\n",
       "  ('be', 0.05809433893869533),\n",
       "  ('species', 0.0540087012847905),\n",
       "  ('hybrids negative', 0.04781022349561109),\n",
       "  ('extinct humans', 0.04781022349561109),\n",
       "  ('mosquitoes genetic', 0.04781022349561109),\n",
       "  ('mosquitoes', 0.04781022349561109)],\n",
       " 22: [('mars', 0.24562206366349962),\n",
       "  ('mars one', 0.08448730894636204),\n",
       "  ('mission', 0.047018159815915506),\n",
       "  ('one', 0.04582675659912101),\n",
       "  ('earth', 0.04181399680369682),\n",
       "  ('waste money', 0.038574883737111),\n",
       "  ('co', 0.032844467733206255),\n",
       "  ('money', 0.031489763418473884),\n",
       "  ('humanity', 0.031108421347631796),\n",
       "  ('difficult', 0.0280741718287473)]}"
      ]
     },
     "execution_count": 5,
     "metadata": {},
     "output_type": "execute_result"
    }
   ],
   "source": [
    "topic_model.get_topics()"
   ]
  },
  {
   "cell_type": "code",
   "execution_count": 7,
   "metadata": {},
   "outputs": [
    {
     "data": {
      "application/vnd.plotly.v1+json": {
       "config": {
        "plotlyServerURL": "https://plot.ly"
       },
       "data": [
        {
         "hoverinfo": "text",
         "hovertext": [
          "<b>Topic 0</b><br>Words: so obvious, obvious brilliant, brilliant, obvious, so",
          "<b>Topic 0</b><br>Words: convincing judges, time convincing, old boy, passes turing, turing",
          "<b>Topic 0</b><br>Words: peoples, machines destroy, don fear, led display, norm unable",
          "<b>Topic 0</b><br>Words: ai, child, artificial intelligence, artificial, intelligence",
          "<b>Topic 0</b><br>Words: intelligence, ai, them, learns, artificial intelligence",
          "<b>Topic 0</b><br>Words: intelligence, ai, artificial intelligence, artificial, analytical",
          "<b>Topic 0</b><br>Words: ai, later concede, giving special, also claim, switched way",
          "<b>Topic 0</b><br>Words: soul destroy, lead human, human soul, intelligence lead, soul",
          "<b>Topic 0</b><br>Words: algorithms, ai, assange keeps, diversity crisis, ai poisoning",
          "<b>Topic 0</b><br>Words: artificial intelligence, artificial, ai, intelligence, over ai",
          "<b>Topic 0</b><br>Words: ai, smarter, artificial intelligence, artificial, intelligence",
          "<b>Topic 0</b><br>Words: ai, intelligence, animals, artificial intelligence, artificial",
          "<b>Topic 0</b><br>Words: ai, artificial intelligence, capture, facial, artificial",
          "<b>Topic 0</b><br>Words: tasks, computer, ai, certain, certain tasks",
          "<b>Topic 0</b><br>Words: ai, clip, artificial intelligence, https, artificial",
          "<b>Topic 0</b><br>Words: ai, artificial intelligence, artificial, intelligence, health",
          "<b>Topic 0</b><br>Words: ai, ai recognize, tamagotchi children, implement large, drones possible",
          "<b>Topic 0</b><br>Words: ai, rights, artificial intelligence, artificial, intelligence"
         ],
         "marker": {
          "color": "#E69F00"
         },
         "mode": "lines",
         "name": "0_ai_artificial intelligence_intelligenc...",
         "type": "scatter",
         "x": [
          "2013-05-24T14:24:00",
          "2013-12-04T09:36:00",
          "2014-06-16T04:48:00",
          "2014-12-27T00:00:00",
          "2015-07-08T19:12:00",
          "2016-01-18T14:24:00",
          "2016-07-30T09:36:00",
          "2017-02-09T04:48:00",
          "2017-08-22T00:00:00",
          "2018-03-03T19:12:00",
          "2018-09-13T14:24:00",
          "2019-03-26T09:36:00",
          "2019-10-06T04:48:00",
          "2020-04-17T00:00:00",
          "2020-10-27T19:12:00",
          "2021-05-09T14:24:00",
          "2021-11-19T09:36:00",
          "2022-06-01T04:48:00"
         ],
         "y": [
          1,
          1,
          3,
          5,
          6,
          5,
          1,
          1,
          4,
          4,
          6,
          5,
          6,
          5,
          3,
          5,
          2,
          5
         ]
        },
        {
         "hoverinfo": "text",
         "hovertext": [
          "<b>Topic 1</b><br>Words: target technology, straight sci, stunning display, target, seen stunning",
          "<b>Topic 1</b><br>Words: phonebloks, apple, thing ever, innovator, upgradable",
          "<b>Topic 1</b><br>Words: google, biggest, pretty dangerous, cloud, becoming",
          "<b>Topic 1</b><br>Words: films, have, fashion trends, meaningless, ones becoming",
          "<b>Topic 1</b><br>Words: be only, smartphone be, only computer, than two, less than",
          "<b>Topic 1</b><br>Words: awesome compact, display screen, laptop flexible, compact, samsung patents",
          "<b>Topic 1</b><br>Words: iphone, reality, virtual reality, virtual, clothes",
          "<b>Topic 1</b><br>Words: less technological, disruption past, see lot, over priced, years see",
          "<b>Topic 1</b><br>Words: progress, next, next computer, incredibly excited, assistant",
          "<b>Topic 1</b><br>Words: thing, gaming, next gen, future gaming, phones",
          "<b>Topic 1</b><br>Words: directly, public ip, ip, addresses, publish",
          "<b>Topic 1</b><br>Words: tv, channels, tv channels, apple, list",
          "<b>Topic 1</b><br>Words: cables, take much, efforts made, think graduating, accepted necessary",
          "<b>Topic 1</b><br>Words: apart myth, partners potential, coming technologies, commercialisation, longer much",
          "<b>Topic 1</b><br>Words: mean, tunes buy, reading overall, walk sports, plan make",
          "<b>Topic 1</b><br>Words: ar, vr, indiscernible, npcs, vr ar",
          "<b>Topic 1</b><br>Words: light, commonplace, switch light, features add, add little",
          "<b>Topic 1</b><br>Words: iphone, container, device, are, think"
         ],
         "marker": {
          "color": "#56B4E9"
         },
         "mode": "lines",
         "name": "1_reality_iphone_think_vr",
         "type": "scatter",
         "x": [
          "2012-11-11T19:12:00",
          "2013-05-24T14:24:00",
          "2013-12-04T09:36:00",
          "2014-06-16T04:48:00",
          "2014-12-27T00:00:00",
          "2015-07-08T19:12:00",
          "2016-01-18T14:24:00",
          "2016-07-30T09:36:00",
          "2017-02-09T04:48:00",
          "2018-03-03T19:12:00",
          "2018-09-13T14:24:00",
          "2019-03-26T09:36:00",
          "2019-10-06T04:48:00",
          "2020-04-17T00:00:00",
          "2020-10-27T19:12:00",
          "2021-05-09T14:24:00",
          "2021-11-19T09:36:00",
          "2022-06-01T04:48:00"
         ],
         "y": [
          2,
          5,
          2,
          3,
          1,
          1,
          6,
          3,
          3,
          3,
          1,
          3,
          2,
          3,
          1,
          4,
          3,
          5
         ]
        },
        {
         "hoverinfo": "text",
         "hovertext": [
          "<b>Topic 2</b><br>Words: balance, internet, governance regulation, medium, democratic",
          "<b>Topic 2</b><br>Words: dot, cosmic, corner, everyone, inhabitants",
          "<b>Topic 2</b><br>Words: capitalism, market, provide, everyone, entrepreneurs",
          "<b>Topic 2</b><br>Words: capital, pissed, human, cognition, fine",
          "<b>Topic 2</b><br>Words: people, world, socialism, technostism, income",
          "<b>Topic 2</b><br>Words: world, people, god, want, masses",
          "<b>Topic 2</b><br>Words: knowledge, world, credits, know, need",
          "<b>Topic 2</b><br>Words: never, japan, people, world, japanese",
          "<b>Topic 2</b><br>Words: people, civilization, world, iq, today",
          "<b>Topic 2</b><br>Words: people, poor, world, tech, probably",
          "<b>Topic 2</b><br>Words: rentiers, pay, tech, higher, birds",
          "<b>Topic 2</b><br>Words: russia, soviet, usa, military, officers",
          "<b>Topic 2</b><br>Words: cities, world, economic, output, countries",
          "<b>Topic 2</b><br>Words: world, arguments, western, movement, society",
          "<b>Topic 2</b><br>Words: system government, monarchy, countries, government, basic",
          "<b>Topic 2</b><br>Words: communism, scarcity, failed, economics, ubi",
          "<b>Topic 2</b><br>Words: billing, cant, understand, system, old system",
          "<b>Topic 2</b><br>Words: trees, cabinets idea, agriculture carbon, speeds excess, mph idea"
         ],
         "marker": {
          "color": "#009E73"
         },
         "mode": "lines",
         "name": "2_world_people_human_one",
         "type": "scatter",
         "x": [
          "2012-11-11T19:12:00",
          "2013-05-24T14:24:00",
          "2013-12-04T09:36:00",
          "2014-06-16T04:48:00",
          "2014-12-27T00:00:00",
          "2015-07-08T19:12:00",
          "2016-01-18T14:24:00",
          "2016-07-30T09:36:00",
          "2017-02-09T04:48:00",
          "2017-08-22T00:00:00",
          "2018-03-03T19:12:00",
          "2018-09-13T14:24:00",
          "2019-03-26T09:36:00",
          "2019-10-06T04:48:00",
          "2020-04-17T00:00:00",
          "2020-10-27T19:12:00",
          "2021-05-09T14:24:00",
          "2021-11-19T09:36:00"
         ],
         "y": [
          1,
          1,
          2,
          3,
          4,
          7,
          4,
          4,
          4,
          5,
          2,
          1,
          3,
          2,
          1,
          2,
          1,
          1
         ]
        },
        {
         "hoverinfo": "text",
         "hovertext": [
          "<b>Topic 3</b><br>Words: new robot, robot boston, dynamics wait, see seriously, give second",
          "<b>Topic 3</b><br>Words: futurology interested, happen capitalism, answer happen, capitalism jobs, computers robots",
          "<b>Topic 3</b><br>Words: robot, machine robocop, immolation, soon replace, self immolation",
          "<b>Topic 3</b><br>Words: robot, kuka, robots, jobs, say",
          "<b>Topic 3</b><br>Words: lets feel, exoskeleton hand, objects control, virtual objects, hand lets",
          "<b>Topic 3</b><br>Words: jobs, robots, wealth not, starting break, taken robots",
          "<b>Topic 3</b><br>Words: puppet doles, feeling living, robotic tech, doles advice, discusses",
          "<b>Topic 3</b><br>Words: robot, robots, jobs, first, take jobs",
          "<b>Topic 3</b><br>Words: robots, jobs, hear, basic income, basic",
          "<b>Topic 3</b><br>Words: jobs, killing jobs, robots, killing, robot",
          "<b>Topic 3</b><br>Words: take, your job, robot probably, should really, take your",
          "<b>Topic 3</b><br>Words: robots, robot, asimov, harm, jobs",
          "<b>Topic 3</b><br>Words: robots, are going, roam earth, roam, us racism",
          "<b>Topic 3</b><br>Words: threat killer, real closer, robots real, closer think, killer robots",
          "<b>Topic 3</b><br>Words: robots, robot, jobs, artist sells, sells art",
          "<b>Topic 3</b><br>Words: restaurant, warns automation, kitchens labor, kitchens, labor shortage",
          "<b>Topic 3</b><br>Words: technology next, greatest consumer, consumer product, thing robot, product time"
         ],
         "marker": {
          "color": "#F0E442"
         },
         "mode": "lines",
         "name": "3_robots_robot_jobs_take jobs",
         "type": "scatter",
         "x": [
          "2012-04-28T02:58:33.600000",
          "2012-11-11T19:12:00",
          "2013-05-24T14:24:00",
          "2013-12-04T09:36:00",
          "2014-06-16T04:48:00",
          "2014-12-27T00:00:00",
          "2015-07-08T19:12:00",
          "2016-01-18T14:24:00",
          "2016-07-30T09:36:00",
          "2017-02-09T04:48:00",
          "2017-08-22T00:00:00",
          "2018-09-13T14:24:00",
          "2019-10-06T04:48:00",
          "2020-04-17T00:00:00",
          "2020-10-27T19:12:00",
          "2021-05-09T14:24:00",
          "2022-06-01T04:48:00"
         ],
         "y": [
          1,
          2,
          4,
          5,
          1,
          4,
          3,
          3,
          3,
          4,
          3,
          5,
          2,
          1,
          2,
          1,
          1
         ]
        },
        {
         "hoverinfo": "text",
         "hovertext": [
          "<b>Topic 4</b><br>Words: tsunami is, tsunami, is, climate, climate change",
          "<b>Topic 4</b><br>Words: climate, human, increasingly, computers, personality",
          "<b>Topic 4</b><br>Words: venus project, is venus, venus, project, is",
          "<b>Topic 4</b><br>Words: year, faster, occured, spent earth, budget",
          "<b>Topic 4</b><br>Words: trump looks, looks disaster, disaster planet, way donald, disaster",
          "<b>Topic 4</b><br>Words: turn earth, earth into, policies could, hawking trump, climate policies",
          "<b>Topic 4</b><br>Words: scenarios harmful, harmful climate, doomsday, denial, doomsday scenarios",
          "<b>Topic 4</b><br>Words: climate, climate change, change, capitalism, end",
          "<b>Topic 4</b><br>Words: climate, https, https www, global, www",
          "<b>Topic 4</b><br>Words: climate, climate change, change, is, years too",
          "<b>Topic 4</b><br>Words: climate, efforts put, green linings, paris climate, permanently",
          "<b>Topic 4</b><br>Words: dumping plan, our oceans, dumping, plan trash, the fukushima",
          "<b>Topic 4</b><br>Words: long till, till, wonder, heat, massive",
          "<b>Topic 4</b><br>Words: looming issues, civilisation, think civilisation, issues climate, civilisation survive",
          "<b>Topic 4</b><br>Words: soil, doing save, sadhguru, sadhguru doing, world soil"
         ],
         "marker": {
          "color": "#D55E00"
         },
         "mode": "lines",
         "name": "4_climate_climate change_change_human",
         "type": "scatter",
         "x": [
          "2012-04-28T02:58:33.600000",
          "2012-11-11T19:12:00",
          "2013-12-04T09:36:00",
          "2015-07-08T19:12:00",
          "2016-07-30T09:36:00",
          "2017-02-09T04:48:00",
          "2018-03-03T19:12:00",
          "2018-09-13T14:24:00",
          "2019-03-26T09:36:00",
          "2019-10-06T04:48:00",
          "2020-04-17T00:00:00",
          "2020-10-27T19:12:00",
          "2021-05-09T14:24:00",
          "2021-11-19T09:36:00",
          "2022-06-01T04:48:00"
         ],
         "y": [
          1,
          1,
          1,
          1,
          1,
          1,
          1,
          6,
          8,
          4,
          2,
          1,
          3,
          1,
          2
         ]
        },
        {
         "hoverinfo": "text",
         "hovertext": [
          "<b>Topic 5</b><br>Words: are true, true yet, facts are, buzzfeed facts, buzzfeed",
          "<b>Topic 5</b><br>Words: community, eternal september, september, journal, eternal",
          "<b>Topic 5</b><br>Words: reddit, amazing, education, self, lot",
          "<b>Topic 5</b><br>Words: futurology, wow, see, things, going",
          "<b>Topic 5</b><br>Words: sub, income, clearly, future, discussion",
          "<b>Topic 5</b><br>Words: read, books, time, put mind, collapse cheers",
          "<b>Topic 5</b><br>Words: black, far best, nuanced, just black, fi nuanced",
          "<b>Topic 5</b><br>Words: instead reinforced, spread dangerous, yesterday, enough counter, misinformation",
          "<b>Topic 5</b><br>Words: moderators, advise, posts, climate, sub",
          "<b>Topic 5</b><br>Words: posts, sub, reddit, post, futurology",
          "<b>Topic 5</b><br>Words: sub, does crap, sub used, crap, interesting now",
          "<b>Topic 5</b><br>Words: https, web, ideas, org, love"
         ],
         "marker": {
          "color": "#0072B2"
         },
         "mode": "lines",
         "name": "5_reddit_sub_posts_futurology",
         "type": "scatter",
         "x": [
          "2013-05-24T14:24:00",
          "2013-12-04T09:36:00",
          "2014-06-16T04:48:00",
          "2014-12-27T00:00:00",
          "2016-01-18T14:24:00",
          "2016-07-30T09:36:00",
          "2018-03-03T19:12:00",
          "2018-09-13T14:24:00",
          "2019-03-26T09:36:00",
          "2019-10-06T04:48:00",
          "2020-04-17T00:00:00",
          "2021-05-09T14:24:00"
         ],
         "y": [
          1,
          4,
          1,
          5,
          3,
          1,
          2,
          1,
          3,
          7,
          1,
          5
         ]
        },
        {
         "hoverinfo": "text",
         "hovertext": [
          "<b>Topic 6</b><br>Words: add water, beer instantly, powder get, beer, get beer",
          "<b>Topic 6</b><br>Words: food packaging, future food, packaging, food, future",
          "<b>Topic 6</b><br>Words: vertical farms, let make, do make, make clear, farms do",
          "<b>Topic 6</b><br>Words: trek says, says future, cost lab, patty drops, grown burger",
          "<b>Topic 6</b><br>Words: world went, industry using, tongues tool, tongues, sugar foods",
          "<b>Topic 6</b><br>Words: meat, obsolete, dairy, meat dairy, essentially use",
          "<b>Topic 6</b><br>Words: meat, vegans, meat obsolete, war meat, vegans winning",
          "<b>Topic 6</b><br>Words: meat, mean get, banned, daily update, banned save",
          "<b>Topic 6</b><br>Words: dairy, meat, vegan, farms, future latest",
          "<b>Topic 6</b><br>Words: meat, industrywithout, let rebuild, cut greenhouse, meat industrywithout",
          "<b>Topic 6</b><br>Words: milk, meat, cow real, takes pounds, fact takes",
          "<b>Topic 6</b><br>Words: bad planet, need lab, meat are, start blaming, really bad",
          "<b>Topic 6</b><br>Words: meat, dairy, totally doable, doable says, current farmland",
          "<b>Topic 6</b><br>Words: meat, filet mignon, meat never, mignon, mignon convert"
         ],
         "marker": {
          "color": "#CC79A7"
         },
         "mode": "lines",
         "name": "6_meat_dairy_lab_vegan",
         "type": "scatter",
         "x": [
          "2013-05-24T14:24:00",
          "2013-12-04T09:36:00",
          "2014-06-16T04:48:00",
          "2014-12-27T00:00:00",
          "2016-01-18T14:24:00",
          "2017-02-09T04:48:00",
          "2018-09-13T14:24:00",
          "2019-03-26T09:36:00",
          "2019-10-06T04:48:00",
          "2020-04-17T00:00:00",
          "2020-10-27T19:12:00",
          "2021-05-09T14:24:00",
          "2021-11-19T09:36:00",
          "2022-06-01T04:48:00"
         ],
         "y": [
          1,
          1,
          1,
          2,
          2,
          1,
          2,
          4,
          4,
          2,
          2,
          2,
          4,
          2
         ]
        },
        {
         "hoverinfo": "text",
         "hovertext": [
          "<b>Topic 7</b><br>Words: steve jobs, jobs ever, society steve, musk important, important society",
          "<b>Topic 7</b><br>Words: delete, humans spam, worries ai, delete humans, ai delete",
          "<b>Topic 7</b><br>Words: musk, elon musk, elon, hyperloop, spacex",
          "<b>Topic 7</b><br>Words: spacex utterly, has announced, goal spacex, utterly revolutionary, announced new",
          "<b>Topic 7</b><br>Words: musk, elon musk, elon, trump, handling",
          "<b>Topic 7</b><br>Words: elon musk, musk, elon, security, international security",
          "<b>Topic 7</b><br>Words: elon musk, musk, elon, spacex, cnbc make",
          "<b>Topic 7</b><br>Words: elon musk, elon, musk, hard reality, is useless",
          "<b>Topic 7</b><br>Words: elon musk, musk, elon, same elon, night sky",
          "<b>Topic 7</b><br>Words: musk, elon musk, elon, neuralink is, starlink satellite",
          "<b>Topic 7</b><br>Words: explore solar, musk explore, need elon, don need, explore",
          "<b>Topic 7</b><br>Words: elon musk, musk, elon, musk says, spacex",
          "<b>Topic 7</b><br>Words: spacex starship, starship, spacex, musk, elon musk",
          "<b>Topic 7</b><br>Words: said tesla, robot prototype, tesla humanoid, month time, unveiled world"
         ],
         "marker": {
          "color": "#E69F00"
         },
         "mode": "lines",
         "name": "7_musk_elon musk_elon_spacex",
         "type": "scatter",
         "x": [
          "2013-05-24T14:24:00",
          "2014-06-16T04:48:00",
          "2015-07-08T19:12:00",
          "2017-02-09T04:48:00",
          "2017-08-22T00:00:00",
          "2018-03-03T19:12:00",
          "2018-09-13T14:24:00",
          "2019-03-26T09:36:00",
          "2019-10-06T04:48:00",
          "2020-04-17T00:00:00",
          "2020-10-27T19:12:00",
          "2021-05-09T14:24:00",
          "2021-11-19T09:36:00",
          "2022-06-01T04:48:00"
         ],
         "y": [
          1,
          1,
          3,
          1,
          5,
          2,
          2,
          3,
          2,
          3,
          1,
          3,
          2,
          1
         ]
        },
        {
         "hoverinfo": "text",
         "hovertext": [
          "<b>Topic 8</b><br>Words: eugenicist, eugenicist eliminating, nikola tesla, nikola, eliminating undesirables",
          "<b>Topic 8</b><br>Words: solar, inspired, source tesla, energy generator, roadways",
          "<b>Topic 8</b><br>Words: solar car, solar, car, transport, first solar",
          "<b>Topic 8</b><br>Words: tesla, well solar, does work, did tesla, new battery",
          "<b>Topic 8</b><br>Words: solar, us, energy, democratic presidential, free energy",
          "<b>Topic 8</b><br>Words: never die, company made, die battery, dublin, made never",
          "<b>Topic 8</b><br>Words: vehicles hit, are electric, electric vehicles, roadblock, hit roadblock",
          "<b>Topic 8</b><br>Words: blah, blah blah, tesla, are, solar",
          "<b>Topic 8</b><br>Words: solar, hydrogen, cars, tesla, destroy",
          "<b>Topic 8</b><br>Words: buying tesla, tesla minutes, minutes, buying, tesla",
          "<b>Topic 8</b><br>Words: fuel, cars, cell cars, koreans japanese, tesla instead",
          "<b>Topic 8</b><br>Words: wind, wind startups, blades actual, actual wind, blades",
          "<b>Topic 8</b><br>Words: evs, hydrogen, fuel, cost, hydrogen fuel",
          "<b>Topic 8</b><br>Words: demand materials, climate pressures, aluminiumwhich cause, potential impacts, aluminiumwhich",
          "<b>Topic 8</b><br>Words: mile long, emission, smart city, free smart, city look"
         ],
         "marker": {
          "color": "#56B4E9"
         },
         "mode": "lines",
         "name": "8_solar_tesla_fuel_hydrogen",
         "type": "scatter",
         "x": [
          "2013-05-24T14:24:00",
          "2013-12-04T09:36:00",
          "2014-06-16T04:48:00",
          "2014-12-27T00:00:00",
          "2015-07-08T19:12:00",
          "2016-01-18T14:24:00",
          "2017-08-22T00:00:00",
          "2018-03-03T19:12:00",
          "2019-03-26T09:36:00",
          "2019-10-06T04:48:00",
          "2020-04-17T00:00:00",
          "2020-10-27T19:12:00",
          "2021-05-09T14:24:00",
          "2021-11-19T09:36:00",
          "2022-06-01T04:48:00"
         ],
         "y": [
          1,
          3,
          1,
          2,
          2,
          1,
          1,
          2,
          5,
          1,
          1,
          1,
          5,
          1,
          1
         ]
        },
        {
         "hoverinfo": "text",
         "hovertext": [
          "<b>Topic 9</b><br>Words: car gun, cars make, railways obsolete, download car, make railways",
          "<b>Topic 9</b><br>Words: driving, self driving, zero carbon, noiseless jet, title ceo",
          "<b>Topic 9</b><br>Words: driving, self driving, self, cars, traffic",
          "<b>Topic 9</b><br>Words: mistake time, century mistake, time move, car century, mistake",
          "<b>Topic 9</b><br>Words: self driving, driving, self, great get, ethics self",
          "<b>Topic 9</b><br>Words: roads norm, plastic roads, brilliant plastic, plastic, norm",
          "<b>Topic 9</b><br>Words: car, driving, self driving, vehicles, road",
          "<b>Topic 9</b><br>Words: self driving, driving, self, trailer autopilot, autopilot yet",
          "<b>Topic 9</b><br>Words: death machines, machines self, tech won, are death, driving tech",
          "<b>Topic 9</b><br>Words: passes bevs, fcev, bevs, driving city, toyota",
          "<b>Topic 9</b><br>Words: could lead, catastrophic plane, groups are, worried could, are worried",
          "<b>Topic 9</b><br>Words: vehicles present, greater number, many extra, extra lanes, number vehicles",
          "<b>Topic 9</b><br>Words: car, innovation, self driving, driving, lanes overtake"
         ],
         "marker": {
          "color": "#009E73"
         },
         "mode": "lines",
         "name": "9_driving_self driving_self_car",
         "type": "scatter",
         "x": [
          "2014-06-16T04:48:00",
          "2014-12-27T00:00:00",
          "2015-07-08T19:12:00",
          "2016-01-18T14:24:00",
          "2016-07-30T09:36:00",
          "2017-02-09T04:48:00",
          "2017-08-22T00:00:00",
          "2018-09-13T14:24:00",
          "2019-03-26T09:36:00",
          "2019-10-06T04:48:00",
          "2020-10-27T19:12:00",
          "2021-05-09T14:24:00",
          "2021-11-19T09:36:00"
         ],
         "y": [
          2,
          3,
          3,
          1,
          2,
          1,
          2,
          3,
          1,
          2,
          1,
          1,
          4
         ]
        },
        {
         "hoverinfo": "text",
         "hovertext": [
          "<b>Topic 10</b><br>Words: bitcoin destroy, destroy dollar, dollar, destroy, bitcoin",
          "<b>Topic 10</b><br>Words: currency look, future currency, look bitcoin, bitcoin revolution, currency",
          "<b>Topic 10</b><br>Words: my, centralized banking, hierarchical centralized, miller, anarcho capitalistic",
          "<b>Topic 10</b><br>Words: bitcoin, goes big, profound internet, bitcoin was, thought bitcoin",
          "<b>Topic 10</b><br>Words: electricity year, consuming amount, currently used, used entire, year currently",
          "<b>Topic 10</b><br>Words: scam history, greatest scam, bitcoin greatest, bad vision, blockchain is",
          "<b>Topic 10</b><br>Words: make supply, dominationif, blockchain make, dominationif actually, more humane",
          "<b>Topic 10</b><br>Words: rule them, libra facebook, libra, cryptocurrency rule, them all",
          "<b>Topic 10</b><br>Words: be crucial, is defining, crucial cashless, defining moment, crisis is",
          "<b>Topic 10</b><br>Words: bitcoin, is, too complicated, adoption, complicated mass",
          "<b>Topic 10</b><br>Words: future money, central banks, mining driving, coin large, states central",
          "<b>Topic 10</b><br>Words: data, web, government, centralized, users data"
         ],
         "marker": {
          "color": "#F0E442"
         },
         "mode": "lines",
         "name": "10_bitcoin_future_is_data",
         "type": "scatter",
         "x": [
          "2013-05-24T14:24:00",
          "2013-12-04T09:36:00",
          "2014-06-16T04:48:00",
          "2015-07-08T19:12:00",
          "2017-08-22T00:00:00",
          "2018-03-03T19:12:00",
          "2018-09-13T14:24:00",
          "2019-03-26T09:36:00",
          "2020-04-17T00:00:00",
          "2021-05-09T14:24:00",
          "2021-11-19T09:36:00",
          "2022-06-01T04:48:00"
         ],
         "y": [
          1,
          2,
          2,
          3,
          1,
          2,
          2,
          1,
          2,
          5,
          2,
          1
         ]
        },
        {
         "hoverinfo": "text",
         "hovertext": [
          "<b>Topic 11</b><br>Words: test just, just thought, telling, test, just",
          "<b>Topic 11</b><br>Words: never reaped, talk gave, karma pic, kurzweil interview, just realized",
          "<b>Topic 11</b><br>Words: take years, so think, onward, decades unfold, unfold",
          "<b>Topic 11</b><br>Words: average american, here average, american look, future here, look year",
          "<b>Topic 11</b><br>Words: think, look, year, thought year, people thought",
          "<b>Topic 11</b><br>Words: thought year, people thought, look, here, year",
          "<b>Topic 11</b><br>Words: believe, look, year, thought year, people thought",
          "<b>Topic 11</b><br>Words: work look, look, work, year, thought year",
          "<b>Topic 11</b><br>Words: hottest, futures coddling, hottest top, third hottest, cultural futures",
          "<b>Topic 11</b><br>Words: feel, feel strongly, possiblity welcome, strongly way, welcome fight",
          "<b>Topic 11</b><br>Words: years left, less everything, left less, goes ok, everything goes",
          "<b>Topic 11</b><br>Words: america see, see birthday, birthday, america, see"
         ],
         "marker": {
          "color": "#D55E00"
         },
         "mode": "lines",
         "name": "11_look_year_thought year_hottest",
         "type": "scatter",
         "x": [
          "2012-04-28T02:58:33.600000",
          "2012-11-11T19:12:00",
          "2013-05-24T14:24:00",
          "2013-12-04T09:36:00",
          "2014-12-27T00:00:00",
          "2015-07-08T19:12:00",
          "2017-02-09T04:48:00",
          "2017-08-22T00:00:00",
          "2018-09-13T14:24:00",
          "2019-03-26T09:36:00",
          "2021-05-09T14:24:00",
          "2021-11-19T09:36:00"
         ],
         "y": [
          3,
          2,
          2,
          2,
          1,
          5,
          1,
          1,
          2,
          2,
          1,
          1
         ]
        },
        {
         "hoverinfo": "text",
         "hovertext": [
          "<b>Topic 12</b><br>Words: reliable common, method diagnosing, research google, old invents, invents new",
          "<b>Topic 12</b><br>Words: get aging, aging research, something people, people get, research",
          "<b>Topic 12</b><br>Words: aging software, software bug, bug, software, aging",
          "<b>Topic 12</b><br>Words: aging, genes, unravel, michio kaku, michio",
          "<b>Topic 12</b><br>Words: life extension, extension, opponents healthy, extension science, extension is",
          "<b>Topic 12</b><br>Words: senior, population, cons achieve, opposed people, security benefits",
          "<b>Topic 12</b><br>Words: impossible says, who want, new aging, is mathematically, eternal life",
          "<b>Topic 12</b><br>Words: aging, cure, available, curing aging, curing",
          "<b>Topic 12</b><br>Words: fasting, aging, cells, stem, intestinal",
          "<b>Topic 12</b><br>Words: aging, video description, process unstoppable, saturation, lifespan saturation",
          "<b>Topic 12</b><br>Words: impossible true, article says, says immortality, immortality impossible, immortality"
         ],
         "marker": {
          "color": "#0072B2"
         },
         "mode": "lines",
         "name": "12_aging_fasting_life_cells",
         "type": "scatter",
         "x": [
          "2012-11-11T19:12:00",
          "2013-05-24T14:24:00",
          "2014-12-27T00:00:00",
          "2015-07-08T19:12:00",
          "2016-01-18T14:24:00",
          "2016-07-30T09:36:00",
          "2017-08-22T00:00:00",
          "2019-03-26T09:36:00",
          "2019-10-06T04:48:00",
          "2021-05-09T14:24:00",
          "2021-11-19T09:36:00"
         ],
         "y": [
          1,
          1,
          1,
          2,
          2,
          3,
          2,
          2,
          3,
          4,
          1
         ]
        },
        {
         "hoverinfo": "text",
         "hovertext": [
          "<b>Topic 13</b><br>Words: thought, think, way, human, life",
          "<b>Topic 13</b><br>Words: time, travel, dimension, time travel, third",
          "<b>Topic 13</b><br>Words: universe, years future, sometimes, future, people",
          "<b>Topic 13</b><br>Words: time, one, human, even, weapons",
          "<b>Topic 13</b><br>Words: religion, superhuman, future religion, worshipped, ai",
          "<b>Topic 13</b><br>Words: ray, exponential, ray kurzweil, kurzweil, time",
          "<b>Topic 13</b><br>Words: life, profit, time, brain, one",
          "<b>Topic 13</b><br>Words: ai, children, create, learn, eventually",
          "<b>Topic 13</b><br>Words: meditation, life, technologies, key, link",
          "<b>Topic 13</b><br>Words: life, microscopic life, microscopic, macroscopic, form life",
          "<b>Topic 13</b><br>Words: smell, world, body, virtual, possible",
          "<b>Topic 13</b><br>Words: life, stars, universe, idea, form",
          "<b>Topic 13</b><br>Words: quantum, classical, fractals, fractal, consciousness",
          "<b>Topic 13</b><br>Words: strings, particle, light, atoms, able",
          "<b>Topic 13</b><br>Words: thoughts, app, mind, thought, brain"
         ],
         "marker": {
          "color": "#CC79A7"
         },
         "mode": "lines",
         "name": "13_time_life_travel_one",
         "type": "scatter",
         "x": [
          "2013-05-24T14:24:00",
          "2014-06-16T04:48:00",
          "2014-12-27T00:00:00",
          "2016-01-18T14:24:00",
          "2016-07-30T09:36:00",
          "2017-08-22T00:00:00",
          "2018-03-03T19:12:00",
          "2018-09-13T14:24:00",
          "2019-03-26T09:36:00",
          "2019-10-06T04:48:00",
          "2020-04-17T00:00:00",
          "2020-10-27T19:12:00",
          "2021-05-09T14:24:00",
          "2021-11-19T09:36:00",
          "2022-06-01T04:48:00"
         ],
         "y": [
          2,
          2,
          2,
          1,
          1,
          1,
          3,
          2,
          2,
          1,
          1,
          1,
          1,
          1,
          1
         ]
        },
        {
         "hoverinfo": "text",
         "hovertext": [
          "<b>Topic 14</b><br>Words: released energy, first fuel, fusion experiment, energy absorbed, breakthrough first",
          "<b>Topic 14</b><br>Words: nuclear, http, energy, lenr, cat",
          "<b>Topic 14</b><br>Words: race heated, fusion race, heated, cold fusion, fusion",
          "<b>Topic 14</b><br>Words: never supply, supply world, power never, energy needs, world energy",
          "<b>Topic 14</b><br>Words: major breakthrough, breakthrough nuclear, fusion technology, technology am, am breaking",
          "<b>Topic 14</b><br>Words: nuclear way, is thorium, power being, thorium, way forward",
          "<b>Topic 14</b><br>Words: reason hate, need renewables, means need, hate nuclear, nuclear means",
          "<b>Topic 14</b><br>Words: forbes, hbo chernobyl, forbes hbo, chernobyl gets, so wrong",
          "<b>Topic 14</b><br>Words: nuclear power, nuclear, times much, power, energy",
          "<b>Topic 14</b><br>Words: nuclear, energy, us ditches, energy safe, warming world",
          "<b>Topic 14</b><br>Words: nuclear, hope nuclear, modular reactors, be suspicious, small modular",
          "<b>Topic 14</b><br>Words: youtuber clambers, clambers inside, has cold, fusion cracked, youtuber"
         ],
         "marker": {
          "color": "#E69F00"
         },
         "mode": "lines",
         "name": "14_nuclear_energy_http_lenr",
         "type": "scatter",
         "x": [
          "2013-12-04T09:36:00",
          "2014-06-16T04:48:00",
          "2014-12-27T00:00:00",
          "2016-01-18T14:24:00",
          "2016-07-30T09:36:00",
          "2017-08-22T00:00:00",
          "2018-09-13T14:24:00",
          "2019-03-26T09:36:00",
          "2019-10-06T04:48:00",
          "2021-05-09T14:24:00",
          "2021-11-19T09:36:00",
          "2022-06-01T04:48:00"
         ],
         "y": [
          1,
          4,
          1,
          1,
          1,
          2,
          1,
          1,
          1,
          3,
          2,
          2
         ]
        },
        {
         "hoverinfo": "text",
         "hovertext": [
          "<b>Topic 15</b><br>Words: thoughtcrime, together detect, prism, prism working, ajax prism",
          "<b>Topic 15</b><br>Words: neptune, matter time, time, matter, indicator time",
          "<b>Topic 15</b><br>Words: quantum, look abacus, time run, suggests time, run backwards",
          "<b>Topic 15</b><br>Words: universe, parallel, exist civilization, thermodynamics ultimate, notices",
          "<b>Topic 15</b><br>Words: read thoughts, thoughts years, computers read, thoughts, read",
          "<b>Topic 15</b><br>Words: computers are, are verge, verge quantum, quantum leap, leap",
          "<b>Topic 15</b><br>Words: past proving, proving, proving time, into past, travel is",
          "<b>Topic 15</b><br>Words: find signs, physicists find, yale physicists, crystal, signs time",
          "<b>Topic 15</b><br>Words: universes, physicists, quantum computer, time, quantum",
          "<b>Topic 15</b><br>Words: greater google, sycamore, computer declared, china new, declared",
          "<b>Topic 15</b><br>Words: wallets quantum, possible future, computer possible, bitcoin wallets, hacking bitcoin",
          "<b>Topic 15</b><br>Words: experts warn, quantum apocalypse, warn quantum, warn, apocalypse",
          "<b>Topic 15</b><br>Words: engineered material, scientists engineered, first scientists, material think, engineered"
         ],
         "marker": {
          "color": "#56B4E9"
         },
         "mode": "lines",
         "name": "15_quantum_universes_time_physicists",
         "type": "scatter",
         "x": [
          "2013-05-24T14:24:00",
          "2014-06-16T04:48:00",
          "2014-12-27T00:00:00",
          "2015-07-08T19:12:00",
          "2016-07-30T09:36:00",
          "2017-02-09T04:48:00",
          "2017-08-22T00:00:00",
          "2018-03-03T19:12:00",
          "2018-09-13T14:24:00",
          "2020-04-17T00:00:00",
          "2021-05-09T14:24:00",
          "2021-11-19T09:36:00",
          "2022-06-01T04:48:00"
         ],
         "y": [
          1,
          4,
          2,
          2,
          1,
          1,
          1,
          1,
          2,
          1,
          1,
          1,
          1
         ]
        },
        {
         "hoverinfo": "text",
         "hovertext": [
          "<b>Topic 16</b><br>Words: girl, cyborg girl, cyborg, sex, sex robots",
          "<b>Topic 16</b><br>Words: sex, woman, relationships will, pervert cyber, leap from",
          "<b>Topic 16</b><br>Words: robots dangerous, dangerous think, female sex, sex robots, female",
          "<b>Topic 16</b><br>Words: sex robots, sex, spacex mars, toronto, increasingly popular",
          "<b>Topic 16</b><br>Words: woman, dealership, close gender, dealership asks, is helping",
          "<b>Topic 16</b><br>Words: voice listen, ai voice, genderless ai, genderless, robot considered",
          "<b>Topic 16</b><br>Words: sex robots, sex, robots, harm vulnerable, app undressed",
          "<b>Topic 16</b><br>Words: varieties, varieties bullshit, bullshit, sex, sex robots",
          "<b>Topic 16</b><br>Words: gender option, option passports, add third, third gender, will add",
          "<b>Topic 16</b><br>Words: start leading, everyone start, crunch, leading woman, crunch time"
         ],
         "marker": {
          "color": "#009E73"
         },
         "mode": "lines",
         "name": "16_sex_sex robots_woman_robots",
         "type": "scatter",
         "x": [
          "2012-04-28T02:58:33.600000",
          "2016-07-30T09:36:00",
          "2017-02-09T04:48:00",
          "2017-08-22T00:00:00",
          "2018-03-03T19:12:00",
          "2018-09-13T14:24:00",
          "2019-03-26T09:36:00",
          "2020-04-17T00:00:00",
          "2021-05-09T14:24:00",
          "2021-11-19T09:36:00"
         ],
         "y": [
          1,
          2,
          1,
          2,
          2,
          2,
          3,
          1,
          1,
          1
         ]
        },
        {
         "hoverinfo": "text",
         "hovertext": [
          "<b>Topic 17</b><br>Words: firearms, reinvented, craft firearms, wheel, printing never",
          "<b>Topic 17</b><br>Words: printing animation, animation, printing, china, guns",
          "<b>Topic 17</b><br>Words: shores, shores two, reach us, us shores, two hours",
          "<b>Topic 17</b><br>Words: halo, made gun, gun halo, canadian army, army actually",
          "<b>Topic 17</b><br>Words: world power, asia soon, soon become, become seat, south asia",
          "<b>Topic 17</b><br>Words: laser guns, chinese army, uses laser, army uses, guns",
          "<b>Topic 17</b><br>Words: dominate future, future hope, hope succeeds, china preparing, preparing",
          "<b>Topic 17</b><br>Words: railgun humiliating, flood, flood country, do flood, railgun",
          "<b>Topic 17</b><br>Words: tracks everybody, everybody surveillance, china tracks, tracks, everybody",
          "<b>Topic 17</b><br>Words: china, usa, combined, looking, abroad belt",
          "<b>Topic 17</b><br>Words: caspian, naval supremacy, aims naval, china aims, supremacy",
          "<b>Topic 17</b><br>Words: rise australia, prevent made, now major, major space, australia prevent"
         ],
         "marker": {
          "color": "#F0E442"
         },
         "mode": "lines",
         "name": "17_china_guns_army_usa",
         "type": "scatter",
         "x": [
          "2012-11-11T19:12:00",
          "2013-12-04T09:36:00",
          "2014-06-16T04:48:00",
          "2014-12-27T00:00:00",
          "2015-07-08T19:12:00",
          "2016-01-18T14:24:00",
          "2016-07-30T09:36:00",
          "2018-03-03T19:12:00",
          "2019-10-06T04:48:00",
          "2020-10-27T19:12:00",
          "2021-05-09T14:24:00",
          "2022-06-01T04:48:00"
         ],
         "y": [
          2,
          1,
          1,
          1,
          1,
          1,
          1,
          2,
          1,
          2,
          1,
          2
         ]
        },
        {
         "hoverinfo": "text",
         "hovertext": [
          "<b>Topic 18</b><br>Words: earth existed, calculate life, calculate, began earth, use moore",
          "<b>Topic 18</b><br>Words: comet, philae, philae comet, alien life, alien",
          "<b>Topic 18</b><br>Words: aliens, strange, stars, stars aliens, coming stars",
          "<b>Topic 18</b><br>Words: aliens next, scientists assert, next decade, assert will, will make",
          "<b>Topic 18</b><br>Words: found outside, space station, outside space, station extraterrestrial, contact bacteria",
          "<b>Topic 18</b><br>Words: seriously, take ufos, seriously vox, ufos seriously, seriously seriously",
          "<b>Topic 18</b><br>Words: laser communication, laser, communication, ufos, navy",
          "<b>Topic 18</b><br>Words: aliens, ufo, scientists, ufos, navy"
         ],
         "marker": {
          "color": "#D55E00"
         },
         "mode": "lines",
         "name": "18_scientists_aliens_ufos_laser",
         "type": "scatter",
         "x": [
          "2012-11-11T19:12:00",
          "2014-12-27T00:00:00",
          "2016-07-30T09:36:00",
          "2017-02-09T04:48:00",
          "2017-08-22T00:00:00",
          "2020-04-17T00:00:00",
          "2020-10-27T19:12:00",
          "2021-05-09T14:24:00"
         ],
         "y": [
          1,
          2,
          2,
          1,
          1,
          1,
          2,
          4
         ]
        },
        {
         "hoverinfo": "text",
         "hovertext": [
          "<b>Topic 19</b><br>Words: basic income, basic, income, universal, universal basic",
          "<b>Topic 19</b><br>Words: income, basic income, basic, sweden, universal",
          "<b>Topic 19</b><br>Words: basic income, basic, income, universal basic, universal",
          "<b>Topic 19</b><br>Words: basic, basic income, income, universal, universal basic",
          "<b>Topic 19</b><br>Words: nice idea, income isn, just nice, idea birthright, birthright"
         ],
         "marker": {
          "color": "#0072B2"
         },
         "mode": "lines",
         "name": "19_basic income_basic_income_universal",
         "type": "scatter",
         "x": [
          "2015-07-08T19:12:00",
          "2016-01-18T14:24:00",
          "2016-07-30T09:36:00",
          "2017-02-09T04:48:00",
          "2018-03-03T19:12:00"
         ],
         "y": [
          2,
          5,
          3,
          2,
          1
         ]
        },
        {
         "hoverinfo": "text",
         "hovertext": [
          "<b>Topic 20</b><br>Words: found cure, hiv, temple, cure hiv, temple university",
          "<b>Topic 20</b><br>Words: possible cure, cure viruses, viruses, cure, possible",
          "<b>Topic 20</b><br>Words: killed world, virus killed, world prevent, prevent climate, virus",
          "<b>Topic 20</b><br>Words: friend, university, deaths quarantine, already thousands, people died",
          "<b>Topic 20</b><br>Words: coronavirus, pandemic, years death, is never, coronavirus is",
          "<b>Topic 20</b><br>Words: passports spreading, work us, vaccine passports, spreading world, here work",
          "<b>Topic 20</b><br>Words: boston university, university, strain, boston, covid"
         ],
         "marker": {
          "color": "#CC79A7"
         },
         "mode": "lines",
         "name": "20_coronavirus_university_pandemic_bosto...",
         "type": "scatter",
         "x": [
          "2014-06-16T04:48:00",
          "2016-07-30T09:36:00",
          "2018-09-13T14:24:00",
          "2019-10-06T04:48:00",
          "2020-04-17T00:00:00",
          "2020-10-27T19:12:00",
          "2022-06-01T04:48:00"
         ],
         "y": [
          1,
          1,
          1,
          1,
          4,
          2,
          2
         ]
        },
        {
         "hoverinfo": "text",
         "hovertext": [
          "<b>Topic 21</b><br>Words: al gore, gore, gore civilization, survive next, civilization survive",
          "<b>Topic 21</b><br>Words: be, disappeared, humans disappeared, disappeared today, species no",
          "<b>Topic 21</b><br>Words: humanity failing, seriously humanity, failing, seriously, humanity",
          "<b>Topic 21</b><br>Words: impact humanity, bill gate, negative impact, genetic hybrids, ecosystem",
          "<b>Topic 21</b><br>Words: truth modern, inconvenient truth, inconvenient, civilization inevitable, inevitable collapse",
          "<b>Topic 21</b><br>Words: civilization, species alien, enough destroys, none visited, gets advanced",
          "<b>Topic 21</b><br>Words: collapse, debrief examination, collapse today, based factors, today society",
          "<b>Topic 21</b><br>Words: doomed, doomed go, are doomed, go extinct, extinct"
         ],
         "marker": {
          "color": "#E69F00"
         },
         "mode": "lines",
         "name": "21_collapse_civilization_humans_modern",
         "type": "scatter",
         "x": [
          "2013-05-24T14:24:00",
          "2014-06-16T04:48:00",
          "2017-02-09T04:48:00",
          "2018-03-03T19:12:00",
          "2018-09-13T14:24:00",
          "2020-04-17T00:00:00",
          "2021-05-09T14:24:00",
          "2021-11-19T09:36:00"
         ],
         "y": [
          1,
          2,
          1,
          1,
          1,
          2,
          3,
          1
         ]
        },
        {
         "hoverinfo": "text",
         "hovertext": [
          "<b>Topic 22</b><br>Words: mars, mars one, one, mission, profit organisation",
          "<b>Topic 22</b><br>Words: mars, evidence water, must kill, humans must, new evidence",
          "<b>Topic 22</b><br>Words: mars, fear suicide, going mars, major problem, mars fear",
          "<b>Topic 22</b><br>Words: mars, earth, waste money, co, money",
          "<b>Topic 22</b><br>Words: mars plant, spaceship mars, plant damn, stop building, damn trees",
          "<b>Topic 22</b><br>Words: mars, rover, scientists claim, spot, rover photos",
          "<b>Topic 22</b><br>Words: mars, seems far, normal person, make future, mars seems"
         ],
         "marker": {
          "color": "#56B4E9"
         },
         "mode": "lines",
         "name": "22_mars_mars one_mission_one",
         "type": "scatter",
         "x": [
          "2014-12-27T00:00:00",
          "2016-07-30T09:36:00",
          "2017-02-09T04:48:00",
          "2018-09-13T14:24:00",
          "2019-10-06T04:48:00",
          "2020-10-27T19:12:00",
          "2022-06-01T04:48:00"
         ],
         "y": [
          4,
          2,
          1,
          2,
          1,
          1,
          1
         ]
        }
       ],
       "layout": {
        "height": 450,
        "hoverlabel": {
         "bgcolor": "white",
         "font": {
          "family": "Rockwell",
          "size": 16
         }
        },
        "legend": {
         "title": {
          "text": "<b>Global Topic Representation"
         }
        },
        "template": {
         "data": {
          "bar": [
           {
            "error_x": {
             "color": "rgb(36,36,36)"
            },
            "error_y": {
             "color": "rgb(36,36,36)"
            },
            "marker": {
             "line": {
              "color": "white",
              "width": 0.5
             },
             "pattern": {
              "fillmode": "overlay",
              "size": 10,
              "solidity": 0.2
             }
            },
            "type": "bar"
           }
          ],
          "barpolar": [
           {
            "marker": {
             "line": {
              "color": "white",
              "width": 0.5
             },
             "pattern": {
              "fillmode": "overlay",
              "size": 10,
              "solidity": 0.2
             }
            },
            "type": "barpolar"
           }
          ],
          "carpet": [
           {
            "aaxis": {
             "endlinecolor": "rgb(36,36,36)",
             "gridcolor": "white",
             "linecolor": "white",
             "minorgridcolor": "white",
             "startlinecolor": "rgb(36,36,36)"
            },
            "baxis": {
             "endlinecolor": "rgb(36,36,36)",
             "gridcolor": "white",
             "linecolor": "white",
             "minorgridcolor": "white",
             "startlinecolor": "rgb(36,36,36)"
            },
            "type": "carpet"
           }
          ],
          "choropleth": [
           {
            "colorbar": {
             "outlinewidth": 1,
             "tickcolor": "rgb(36,36,36)",
             "ticks": "outside"
            },
            "type": "choropleth"
           }
          ],
          "contour": [
           {
            "colorbar": {
             "outlinewidth": 1,
             "tickcolor": "rgb(36,36,36)",
             "ticks": "outside"
            },
            "colorscale": [
             [
              0,
              "#440154"
             ],
             [
              0.1111111111111111,
              "#482878"
             ],
             [
              0.2222222222222222,
              "#3e4989"
             ],
             [
              0.3333333333333333,
              "#31688e"
             ],
             [
              0.4444444444444444,
              "#26828e"
             ],
             [
              0.5555555555555556,
              "#1f9e89"
             ],
             [
              0.6666666666666666,
              "#35b779"
             ],
             [
              0.7777777777777778,
              "#6ece58"
             ],
             [
              0.8888888888888888,
              "#b5de2b"
             ],
             [
              1,
              "#fde725"
             ]
            ],
            "type": "contour"
           }
          ],
          "contourcarpet": [
           {
            "colorbar": {
             "outlinewidth": 1,
             "tickcolor": "rgb(36,36,36)",
             "ticks": "outside"
            },
            "type": "contourcarpet"
           }
          ],
          "heatmap": [
           {
            "colorbar": {
             "outlinewidth": 1,
             "tickcolor": "rgb(36,36,36)",
             "ticks": "outside"
            },
            "colorscale": [
             [
              0,
              "#440154"
             ],
             [
              0.1111111111111111,
              "#482878"
             ],
             [
              0.2222222222222222,
              "#3e4989"
             ],
             [
              0.3333333333333333,
              "#31688e"
             ],
             [
              0.4444444444444444,
              "#26828e"
             ],
             [
              0.5555555555555556,
              "#1f9e89"
             ],
             [
              0.6666666666666666,
              "#35b779"
             ],
             [
              0.7777777777777778,
              "#6ece58"
             ],
             [
              0.8888888888888888,
              "#b5de2b"
             ],
             [
              1,
              "#fde725"
             ]
            ],
            "type": "heatmap"
           }
          ],
          "heatmapgl": [
           {
            "colorbar": {
             "outlinewidth": 1,
             "tickcolor": "rgb(36,36,36)",
             "ticks": "outside"
            },
            "colorscale": [
             [
              0,
              "#440154"
             ],
             [
              0.1111111111111111,
              "#482878"
             ],
             [
              0.2222222222222222,
              "#3e4989"
             ],
             [
              0.3333333333333333,
              "#31688e"
             ],
             [
              0.4444444444444444,
              "#26828e"
             ],
             [
              0.5555555555555556,
              "#1f9e89"
             ],
             [
              0.6666666666666666,
              "#35b779"
             ],
             [
              0.7777777777777778,
              "#6ece58"
             ],
             [
              0.8888888888888888,
              "#b5de2b"
             ],
             [
              1,
              "#fde725"
             ]
            ],
            "type": "heatmapgl"
           }
          ],
          "histogram": [
           {
            "marker": {
             "line": {
              "color": "white",
              "width": 0.6
             }
            },
            "type": "histogram"
           }
          ],
          "histogram2d": [
           {
            "colorbar": {
             "outlinewidth": 1,
             "tickcolor": "rgb(36,36,36)",
             "ticks": "outside"
            },
            "colorscale": [
             [
              0,
              "#440154"
             ],
             [
              0.1111111111111111,
              "#482878"
             ],
             [
              0.2222222222222222,
              "#3e4989"
             ],
             [
              0.3333333333333333,
              "#31688e"
             ],
             [
              0.4444444444444444,
              "#26828e"
             ],
             [
              0.5555555555555556,
              "#1f9e89"
             ],
             [
              0.6666666666666666,
              "#35b779"
             ],
             [
              0.7777777777777778,
              "#6ece58"
             ],
             [
              0.8888888888888888,
              "#b5de2b"
             ],
             [
              1,
              "#fde725"
             ]
            ],
            "type": "histogram2d"
           }
          ],
          "histogram2dcontour": [
           {
            "colorbar": {
             "outlinewidth": 1,
             "tickcolor": "rgb(36,36,36)",
             "ticks": "outside"
            },
            "colorscale": [
             [
              0,
              "#440154"
             ],
             [
              0.1111111111111111,
              "#482878"
             ],
             [
              0.2222222222222222,
              "#3e4989"
             ],
             [
              0.3333333333333333,
              "#31688e"
             ],
             [
              0.4444444444444444,
              "#26828e"
             ],
             [
              0.5555555555555556,
              "#1f9e89"
             ],
             [
              0.6666666666666666,
              "#35b779"
             ],
             [
              0.7777777777777778,
              "#6ece58"
             ],
             [
              0.8888888888888888,
              "#b5de2b"
             ],
             [
              1,
              "#fde725"
             ]
            ],
            "type": "histogram2dcontour"
           }
          ],
          "mesh3d": [
           {
            "colorbar": {
             "outlinewidth": 1,
             "tickcolor": "rgb(36,36,36)",
             "ticks": "outside"
            },
            "type": "mesh3d"
           }
          ],
          "parcoords": [
           {
            "line": {
             "colorbar": {
              "outlinewidth": 1,
              "tickcolor": "rgb(36,36,36)",
              "ticks": "outside"
             }
            },
            "type": "parcoords"
           }
          ],
          "pie": [
           {
            "automargin": true,
            "type": "pie"
           }
          ],
          "scatter": [
           {
            "fillpattern": {
             "fillmode": "overlay",
             "size": 10,
             "solidity": 0.2
            },
            "type": "scatter"
           }
          ],
          "scatter3d": [
           {
            "line": {
             "colorbar": {
              "outlinewidth": 1,
              "tickcolor": "rgb(36,36,36)",
              "ticks": "outside"
             }
            },
            "marker": {
             "colorbar": {
              "outlinewidth": 1,
              "tickcolor": "rgb(36,36,36)",
              "ticks": "outside"
             }
            },
            "type": "scatter3d"
           }
          ],
          "scattercarpet": [
           {
            "marker": {
             "colorbar": {
              "outlinewidth": 1,
              "tickcolor": "rgb(36,36,36)",
              "ticks": "outside"
             }
            },
            "type": "scattercarpet"
           }
          ],
          "scattergeo": [
           {
            "marker": {
             "colorbar": {
              "outlinewidth": 1,
              "tickcolor": "rgb(36,36,36)",
              "ticks": "outside"
             }
            },
            "type": "scattergeo"
           }
          ],
          "scattergl": [
           {
            "marker": {
             "colorbar": {
              "outlinewidth": 1,
              "tickcolor": "rgb(36,36,36)",
              "ticks": "outside"
             }
            },
            "type": "scattergl"
           }
          ],
          "scattermapbox": [
           {
            "marker": {
             "colorbar": {
              "outlinewidth": 1,
              "tickcolor": "rgb(36,36,36)",
              "ticks": "outside"
             }
            },
            "type": "scattermapbox"
           }
          ],
          "scatterpolar": [
           {
            "marker": {
             "colorbar": {
              "outlinewidth": 1,
              "tickcolor": "rgb(36,36,36)",
              "ticks": "outside"
             }
            },
            "type": "scatterpolar"
           }
          ],
          "scatterpolargl": [
           {
            "marker": {
             "colorbar": {
              "outlinewidth": 1,
              "tickcolor": "rgb(36,36,36)",
              "ticks": "outside"
             }
            },
            "type": "scatterpolargl"
           }
          ],
          "scatterternary": [
           {
            "marker": {
             "colorbar": {
              "outlinewidth": 1,
              "tickcolor": "rgb(36,36,36)",
              "ticks": "outside"
             }
            },
            "type": "scatterternary"
           }
          ],
          "surface": [
           {
            "colorbar": {
             "outlinewidth": 1,
             "tickcolor": "rgb(36,36,36)",
             "ticks": "outside"
            },
            "colorscale": [
             [
              0,
              "#440154"
             ],
             [
              0.1111111111111111,
              "#482878"
             ],
             [
              0.2222222222222222,
              "#3e4989"
             ],
             [
              0.3333333333333333,
              "#31688e"
             ],
             [
              0.4444444444444444,
              "#26828e"
             ],
             [
              0.5555555555555556,
              "#1f9e89"
             ],
             [
              0.6666666666666666,
              "#35b779"
             ],
             [
              0.7777777777777778,
              "#6ece58"
             ],
             [
              0.8888888888888888,
              "#b5de2b"
             ],
             [
              1,
              "#fde725"
             ]
            ],
            "type": "surface"
           }
          ],
          "table": [
           {
            "cells": {
             "fill": {
              "color": "rgb(237,237,237)"
             },
             "line": {
              "color": "white"
             }
            },
            "header": {
             "fill": {
              "color": "rgb(217,217,217)"
             },
             "line": {
              "color": "white"
             }
            },
            "type": "table"
           }
          ]
         },
         "layout": {
          "annotationdefaults": {
           "arrowhead": 0,
           "arrowwidth": 1
          },
          "autotypenumbers": "strict",
          "coloraxis": {
           "colorbar": {
            "outlinewidth": 1,
            "tickcolor": "rgb(36,36,36)",
            "ticks": "outside"
           }
          },
          "colorscale": {
           "diverging": [
            [
             0,
             "rgb(103,0,31)"
            ],
            [
             0.1,
             "rgb(178,24,43)"
            ],
            [
             0.2,
             "rgb(214,96,77)"
            ],
            [
             0.3,
             "rgb(244,165,130)"
            ],
            [
             0.4,
             "rgb(253,219,199)"
            ],
            [
             0.5,
             "rgb(247,247,247)"
            ],
            [
             0.6,
             "rgb(209,229,240)"
            ],
            [
             0.7,
             "rgb(146,197,222)"
            ],
            [
             0.8,
             "rgb(67,147,195)"
            ],
            [
             0.9,
             "rgb(33,102,172)"
            ],
            [
             1,
             "rgb(5,48,97)"
            ]
           ],
           "sequential": [
            [
             0,
             "#440154"
            ],
            [
             0.1111111111111111,
             "#482878"
            ],
            [
             0.2222222222222222,
             "#3e4989"
            ],
            [
             0.3333333333333333,
             "#31688e"
            ],
            [
             0.4444444444444444,
             "#26828e"
            ],
            [
             0.5555555555555556,
             "#1f9e89"
            ],
            [
             0.6666666666666666,
             "#35b779"
            ],
            [
             0.7777777777777778,
             "#6ece58"
            ],
            [
             0.8888888888888888,
             "#b5de2b"
            ],
            [
             1,
             "#fde725"
            ]
           ],
           "sequentialminus": [
            [
             0,
             "#440154"
            ],
            [
             0.1111111111111111,
             "#482878"
            ],
            [
             0.2222222222222222,
             "#3e4989"
            ],
            [
             0.3333333333333333,
             "#31688e"
            ],
            [
             0.4444444444444444,
             "#26828e"
            ],
            [
             0.5555555555555556,
             "#1f9e89"
            ],
            [
             0.6666666666666666,
             "#35b779"
            ],
            [
             0.7777777777777778,
             "#6ece58"
            ],
            [
             0.8888888888888888,
             "#b5de2b"
            ],
            [
             1,
             "#fde725"
            ]
           ]
          },
          "colorway": [
           "#1F77B4",
           "#FF7F0E",
           "#2CA02C",
           "#D62728",
           "#9467BD",
           "#8C564B",
           "#E377C2",
           "#7F7F7F",
           "#BCBD22",
           "#17BECF"
          ],
          "font": {
           "color": "rgb(36,36,36)"
          },
          "geo": {
           "bgcolor": "white",
           "lakecolor": "white",
           "landcolor": "white",
           "showlakes": true,
           "showland": true,
           "subunitcolor": "white"
          },
          "hoverlabel": {
           "align": "left"
          },
          "hovermode": "closest",
          "mapbox": {
           "style": "light"
          },
          "paper_bgcolor": "white",
          "plot_bgcolor": "white",
          "polar": {
           "angularaxis": {
            "gridcolor": "rgb(232,232,232)",
            "linecolor": "rgb(36,36,36)",
            "showgrid": false,
            "showline": true,
            "ticks": "outside"
           },
           "bgcolor": "white",
           "radialaxis": {
            "gridcolor": "rgb(232,232,232)",
            "linecolor": "rgb(36,36,36)",
            "showgrid": false,
            "showline": true,
            "ticks": "outside"
           }
          },
          "scene": {
           "xaxis": {
            "backgroundcolor": "white",
            "gridcolor": "rgb(232,232,232)",
            "gridwidth": 2,
            "linecolor": "rgb(36,36,36)",
            "showbackground": true,
            "showgrid": false,
            "showline": true,
            "ticks": "outside",
            "zeroline": false,
            "zerolinecolor": "rgb(36,36,36)"
           },
           "yaxis": {
            "backgroundcolor": "white",
            "gridcolor": "rgb(232,232,232)",
            "gridwidth": 2,
            "linecolor": "rgb(36,36,36)",
            "showbackground": true,
            "showgrid": false,
            "showline": true,
            "ticks": "outside",
            "zeroline": false,
            "zerolinecolor": "rgb(36,36,36)"
           },
           "zaxis": {
            "backgroundcolor": "white",
            "gridcolor": "rgb(232,232,232)",
            "gridwidth": 2,
            "linecolor": "rgb(36,36,36)",
            "showbackground": true,
            "showgrid": false,
            "showline": true,
            "ticks": "outside",
            "zeroline": false,
            "zerolinecolor": "rgb(36,36,36)"
           }
          },
          "shapedefaults": {
           "fillcolor": "black",
           "line": {
            "width": 0
           },
           "opacity": 0.3
          },
          "ternary": {
           "aaxis": {
            "gridcolor": "rgb(232,232,232)",
            "linecolor": "rgb(36,36,36)",
            "showgrid": false,
            "showline": true,
            "ticks": "outside"
           },
           "baxis": {
            "gridcolor": "rgb(232,232,232)",
            "linecolor": "rgb(36,36,36)",
            "showgrid": false,
            "showline": true,
            "ticks": "outside"
           },
           "bgcolor": "white",
           "caxis": {
            "gridcolor": "rgb(232,232,232)",
            "linecolor": "rgb(36,36,36)",
            "showgrid": false,
            "showline": true,
            "ticks": "outside"
           }
          },
          "title": {
           "x": 0.05
          },
          "xaxis": {
           "automargin": true,
           "gridcolor": "rgb(232,232,232)",
           "linecolor": "rgb(36,36,36)",
           "showgrid": false,
           "showline": true,
           "ticks": "outside",
           "title": {
            "standoff": 15
           },
           "zeroline": false,
           "zerolinecolor": "rgb(36,36,36)"
          },
          "yaxis": {
           "automargin": true,
           "gridcolor": "rgb(232,232,232)",
           "linecolor": "rgb(36,36,36)",
           "showgrid": false,
           "showline": true,
           "ticks": "outside",
           "title": {
            "standoff": 15
           },
           "zeroline": false,
           "zerolinecolor": "rgb(36,36,36)"
          }
         }
        },
        "title": {
         "font": {
          "color": "Black",
          "size": 22
         },
         "text": "<b>Topics over Time",
         "x": 0.4,
         "xanchor": "center",
         "y": 0.95,
         "yanchor": "top"
        },
        "width": 1250,
        "xaxis": {
         "showgrid": true
        },
        "yaxis": {
         "showgrid": true,
         "title": {
          "text": "Frequency"
         }
        }
       }
      }
     },
     "metadata": {},
     "output_type": "display_data"
    }
   ],
   "source": [
    "topic_model.visualize_topics_over_time(topics_over_time)"
   ]
  },
  {
   "cell_type": "code",
   "execution_count": 8,
   "metadata": {},
   "outputs": [
    {
     "data": {
      "application/vnd.plotly.v1+json": {
       "config": {
        "plotlyServerURL": "https://plot.ly"
       },
       "data": [
        {
         "marker": {
          "color": "#D55E00"
         },
         "orientation": "h",
         "type": "bar",
         "x": [
          0.02465172213358898,
          0.05492365699161981,
          0.056597090338166546,
          0.05736464089038085,
          0.08281503774695712
         ],
         "xaxis": "x",
         "y": [
          "human  ",
          "artificial  ",
          "intelligence  ",
          "artificial intelligence  ",
          "ai  "
         ],
         "yaxis": "y"
        },
        {
         "marker": {
          "color": "#0072B2"
         },
         "orientation": "h",
         "type": "bar",
         "x": [
          0.01569599656013873,
          0.016306802414419615,
          0.016785286389940066,
          0.017736835017091526,
          0.017826835939489527
         ],
         "xaxis": "x2",
         "y": [
          "virtual reality  ",
          "vr  ",
          "think  ",
          "iphone  ",
          "reality  "
         ],
         "yaxis": "y2"
        },
        {
         "marker": {
          "color": "#CC79A7"
         },
         "orientation": "h",
         "type": "bar",
         "x": [
          0.006966759428500108,
          0.007174871005122097,
          0.008181094220647266,
          0.014014218300444947,
          0.014918700668273978
         ],
         "xaxis": "x3",
         "y": [
          "want  ",
          "one  ",
          "human  ",
          "people  ",
          "world  "
         ],
         "yaxis": "y3"
        },
        {
         "marker": {
          "color": "#E69F00"
         },
         "orientation": "h",
         "type": "bar",
         "x": [
          0.02958922456804904,
          0.03316382174861075,
          0.07107523765318895,
          0.08858257684914082,
          0.0977284517731348
         ],
         "xaxis": "x4",
         "y": [
          "killer robots  ",
          "take jobs  ",
          "jobs  ",
          "robot  ",
          "robots  "
         ],
         "yaxis": "y4"
        },
        {
         "marker": {
          "color": "#56B4E9"
         },
         "orientation": "h",
         "type": "bar",
         "x": [
          0.014407594328129313,
          0.017524105564555276,
          0.01781624161105082,
          0.018917156608151065,
          0.036773356581057036
         ],
         "xaxis": "x5",
         "y": [
          "increasingly  ",
          "human  ",
          "change  ",
          "climate change  ",
          "climate  "
         ],
         "yaxis": "y5"
        },
        {
         "marker": {
          "color": "#009E73"
         },
         "orientation": "h",
         "type": "bar",
         "x": [
          0.015850070249245257,
          0.016620427625881746,
          0.019356162007395532,
          0.025553380849475685,
          0.026662901713472218
         ],
         "xaxis": "x6",
         "y": [
          "future  ",
          "futurology  ",
          "posts  ",
          "sub  ",
          "reddit  "
         ],
         "yaxis": "y6"
        },
        {
         "marker": {
          "color": "#F0E442"
         },
         "orientation": "h",
         "type": "bar",
         "x": [
          0.039991622324397194,
          0.04090363783210445,
          0.04890143980854213,
          0.06590354241640868,
          0.15737820773140535
         ],
         "xaxis": "x7",
         "y": [
          "food  ",
          "vegan  ",
          "lab  ",
          "dairy  ",
          "meat  "
         ],
         "yaxis": "y7"
        },
        {
         "marker": {
          "color": "#D55E00"
         },
         "orientation": "h",
         "type": "bar",
         "x": [
          0.035661956999547724,
          0.06788136050967662,
          0.19074718516199987,
          0.19157707954087969,
          0.1981101336011406
         ],
         "xaxis": "x8",
         "y": [
          "trump  ",
          "spacex  ",
          "elon  ",
          "elon musk  ",
          "musk  "
         ],
         "yaxis": "y8"
        }
       ],
       "layout": {
        "annotations": [
         {
          "font": {
           "size": 16
          },
          "showarrow": false,
          "text": "Topic 0",
          "x": 0.0875,
          "xanchor": "center",
          "xref": "paper",
          "y": 1,
          "yanchor": "bottom",
          "yref": "paper"
         },
         {
          "font": {
           "size": 16
          },
          "showarrow": false,
          "text": "Topic 1",
          "x": 0.36250000000000004,
          "xanchor": "center",
          "xref": "paper",
          "y": 1,
          "yanchor": "bottom",
          "yref": "paper"
         },
         {
          "font": {
           "size": 16
          },
          "showarrow": false,
          "text": "Topic 2",
          "x": 0.6375000000000001,
          "xanchor": "center",
          "xref": "paper",
          "y": 1,
          "yanchor": "bottom",
          "yref": "paper"
         },
         {
          "font": {
           "size": 16
          },
          "showarrow": false,
          "text": "Topic 3",
          "x": 0.9125,
          "xanchor": "center",
          "xref": "paper",
          "y": 1,
          "yanchor": "bottom",
          "yref": "paper"
         },
         {
          "font": {
           "size": 16
          },
          "showarrow": false,
          "text": "Topic 4",
          "x": 0.0875,
          "xanchor": "center",
          "xref": "paper",
          "y": 0.4,
          "yanchor": "bottom",
          "yref": "paper"
         },
         {
          "font": {
           "size": 16
          },
          "showarrow": false,
          "text": "Topic 5",
          "x": 0.36250000000000004,
          "xanchor": "center",
          "xref": "paper",
          "y": 0.4,
          "yanchor": "bottom",
          "yref": "paper"
         },
         {
          "font": {
           "size": 16
          },
          "showarrow": false,
          "text": "Topic 6",
          "x": 0.6375000000000001,
          "xanchor": "center",
          "xref": "paper",
          "y": 0.4,
          "yanchor": "bottom",
          "yref": "paper"
         },
         {
          "font": {
           "size": 16
          },
          "showarrow": false,
          "text": "Topic 7",
          "x": 0.9125,
          "xanchor": "center",
          "xref": "paper",
          "y": 0.4,
          "yanchor": "bottom",
          "yref": "paper"
         }
        ],
        "height": 500,
        "hoverlabel": {
         "bgcolor": "white",
         "font": {
          "family": "Rockwell",
          "size": 16
         }
        },
        "showlegend": false,
        "template": {
         "data": {
          "bar": [
           {
            "error_x": {
             "color": "#2a3f5f"
            },
            "error_y": {
             "color": "#2a3f5f"
            },
            "marker": {
             "line": {
              "color": "white",
              "width": 0.5
             },
             "pattern": {
              "fillmode": "overlay",
              "size": 10,
              "solidity": 0.2
             }
            },
            "type": "bar"
           }
          ],
          "barpolar": [
           {
            "marker": {
             "line": {
              "color": "white",
              "width": 0.5
             },
             "pattern": {
              "fillmode": "overlay",
              "size": 10,
              "solidity": 0.2
             }
            },
            "type": "barpolar"
           }
          ],
          "carpet": [
           {
            "aaxis": {
             "endlinecolor": "#2a3f5f",
             "gridcolor": "#C8D4E3",
             "linecolor": "#C8D4E3",
             "minorgridcolor": "#C8D4E3",
             "startlinecolor": "#2a3f5f"
            },
            "baxis": {
             "endlinecolor": "#2a3f5f",
             "gridcolor": "#C8D4E3",
             "linecolor": "#C8D4E3",
             "minorgridcolor": "#C8D4E3",
             "startlinecolor": "#2a3f5f"
            },
            "type": "carpet"
           }
          ],
          "choropleth": [
           {
            "colorbar": {
             "outlinewidth": 0,
             "ticks": ""
            },
            "type": "choropleth"
           }
          ],
          "contour": [
           {
            "colorbar": {
             "outlinewidth": 0,
             "ticks": ""
            },
            "colorscale": [
             [
              0,
              "#0d0887"
             ],
             [
              0.1111111111111111,
              "#46039f"
             ],
             [
              0.2222222222222222,
              "#7201a8"
             ],
             [
              0.3333333333333333,
              "#9c179e"
             ],
             [
              0.4444444444444444,
              "#bd3786"
             ],
             [
              0.5555555555555556,
              "#d8576b"
             ],
             [
              0.6666666666666666,
              "#ed7953"
             ],
             [
              0.7777777777777778,
              "#fb9f3a"
             ],
             [
              0.8888888888888888,
              "#fdca26"
             ],
             [
              1,
              "#f0f921"
             ]
            ],
            "type": "contour"
           }
          ],
          "contourcarpet": [
           {
            "colorbar": {
             "outlinewidth": 0,
             "ticks": ""
            },
            "type": "contourcarpet"
           }
          ],
          "heatmap": [
           {
            "colorbar": {
             "outlinewidth": 0,
             "ticks": ""
            },
            "colorscale": [
             [
              0,
              "#0d0887"
             ],
             [
              0.1111111111111111,
              "#46039f"
             ],
             [
              0.2222222222222222,
              "#7201a8"
             ],
             [
              0.3333333333333333,
              "#9c179e"
             ],
             [
              0.4444444444444444,
              "#bd3786"
             ],
             [
              0.5555555555555556,
              "#d8576b"
             ],
             [
              0.6666666666666666,
              "#ed7953"
             ],
             [
              0.7777777777777778,
              "#fb9f3a"
             ],
             [
              0.8888888888888888,
              "#fdca26"
             ],
             [
              1,
              "#f0f921"
             ]
            ],
            "type": "heatmap"
           }
          ],
          "heatmapgl": [
           {
            "colorbar": {
             "outlinewidth": 0,
             "ticks": ""
            },
            "colorscale": [
             [
              0,
              "#0d0887"
             ],
             [
              0.1111111111111111,
              "#46039f"
             ],
             [
              0.2222222222222222,
              "#7201a8"
             ],
             [
              0.3333333333333333,
              "#9c179e"
             ],
             [
              0.4444444444444444,
              "#bd3786"
             ],
             [
              0.5555555555555556,
              "#d8576b"
             ],
             [
              0.6666666666666666,
              "#ed7953"
             ],
             [
              0.7777777777777778,
              "#fb9f3a"
             ],
             [
              0.8888888888888888,
              "#fdca26"
             ],
             [
              1,
              "#f0f921"
             ]
            ],
            "type": "heatmapgl"
           }
          ],
          "histogram": [
           {
            "marker": {
             "pattern": {
              "fillmode": "overlay",
              "size": 10,
              "solidity": 0.2
             }
            },
            "type": "histogram"
           }
          ],
          "histogram2d": [
           {
            "colorbar": {
             "outlinewidth": 0,
             "ticks": ""
            },
            "colorscale": [
             [
              0,
              "#0d0887"
             ],
             [
              0.1111111111111111,
              "#46039f"
             ],
             [
              0.2222222222222222,
              "#7201a8"
             ],
             [
              0.3333333333333333,
              "#9c179e"
             ],
             [
              0.4444444444444444,
              "#bd3786"
             ],
             [
              0.5555555555555556,
              "#d8576b"
             ],
             [
              0.6666666666666666,
              "#ed7953"
             ],
             [
              0.7777777777777778,
              "#fb9f3a"
             ],
             [
              0.8888888888888888,
              "#fdca26"
             ],
             [
              1,
              "#f0f921"
             ]
            ],
            "type": "histogram2d"
           }
          ],
          "histogram2dcontour": [
           {
            "colorbar": {
             "outlinewidth": 0,
             "ticks": ""
            },
            "colorscale": [
             [
              0,
              "#0d0887"
             ],
             [
              0.1111111111111111,
              "#46039f"
             ],
             [
              0.2222222222222222,
              "#7201a8"
             ],
             [
              0.3333333333333333,
              "#9c179e"
             ],
             [
              0.4444444444444444,
              "#bd3786"
             ],
             [
              0.5555555555555556,
              "#d8576b"
             ],
             [
              0.6666666666666666,
              "#ed7953"
             ],
             [
              0.7777777777777778,
              "#fb9f3a"
             ],
             [
              0.8888888888888888,
              "#fdca26"
             ],
             [
              1,
              "#f0f921"
             ]
            ],
            "type": "histogram2dcontour"
           }
          ],
          "mesh3d": [
           {
            "colorbar": {
             "outlinewidth": 0,
             "ticks": ""
            },
            "type": "mesh3d"
           }
          ],
          "parcoords": [
           {
            "line": {
             "colorbar": {
              "outlinewidth": 0,
              "ticks": ""
             }
            },
            "type": "parcoords"
           }
          ],
          "pie": [
           {
            "automargin": true,
            "type": "pie"
           }
          ],
          "scatter": [
           {
            "fillpattern": {
             "fillmode": "overlay",
             "size": 10,
             "solidity": 0.2
            },
            "type": "scatter"
           }
          ],
          "scatter3d": [
           {
            "line": {
             "colorbar": {
              "outlinewidth": 0,
              "ticks": ""
             }
            },
            "marker": {
             "colorbar": {
              "outlinewidth": 0,
              "ticks": ""
             }
            },
            "type": "scatter3d"
           }
          ],
          "scattercarpet": [
           {
            "marker": {
             "colorbar": {
              "outlinewidth": 0,
              "ticks": ""
             }
            },
            "type": "scattercarpet"
           }
          ],
          "scattergeo": [
           {
            "marker": {
             "colorbar": {
              "outlinewidth": 0,
              "ticks": ""
             }
            },
            "type": "scattergeo"
           }
          ],
          "scattergl": [
           {
            "marker": {
             "colorbar": {
              "outlinewidth": 0,
              "ticks": ""
             }
            },
            "type": "scattergl"
           }
          ],
          "scattermapbox": [
           {
            "marker": {
             "colorbar": {
              "outlinewidth": 0,
              "ticks": ""
             }
            },
            "type": "scattermapbox"
           }
          ],
          "scatterpolar": [
           {
            "marker": {
             "colorbar": {
              "outlinewidth": 0,
              "ticks": ""
             }
            },
            "type": "scatterpolar"
           }
          ],
          "scatterpolargl": [
           {
            "marker": {
             "colorbar": {
              "outlinewidth": 0,
              "ticks": ""
             }
            },
            "type": "scatterpolargl"
           }
          ],
          "scatterternary": [
           {
            "marker": {
             "colorbar": {
              "outlinewidth": 0,
              "ticks": ""
             }
            },
            "type": "scatterternary"
           }
          ],
          "surface": [
           {
            "colorbar": {
             "outlinewidth": 0,
             "ticks": ""
            },
            "colorscale": [
             [
              0,
              "#0d0887"
             ],
             [
              0.1111111111111111,
              "#46039f"
             ],
             [
              0.2222222222222222,
              "#7201a8"
             ],
             [
              0.3333333333333333,
              "#9c179e"
             ],
             [
              0.4444444444444444,
              "#bd3786"
             ],
             [
              0.5555555555555556,
              "#d8576b"
             ],
             [
              0.6666666666666666,
              "#ed7953"
             ],
             [
              0.7777777777777778,
              "#fb9f3a"
             ],
             [
              0.8888888888888888,
              "#fdca26"
             ],
             [
              1,
              "#f0f921"
             ]
            ],
            "type": "surface"
           }
          ],
          "table": [
           {
            "cells": {
             "fill": {
              "color": "#EBF0F8"
             },
             "line": {
              "color": "white"
             }
            },
            "header": {
             "fill": {
              "color": "#C8D4E3"
             },
             "line": {
              "color": "white"
             }
            },
            "type": "table"
           }
          ]
         },
         "layout": {
          "annotationdefaults": {
           "arrowcolor": "#2a3f5f",
           "arrowhead": 0,
           "arrowwidth": 1
          },
          "autotypenumbers": "strict",
          "coloraxis": {
           "colorbar": {
            "outlinewidth": 0,
            "ticks": ""
           }
          },
          "colorscale": {
           "diverging": [
            [
             0,
             "#8e0152"
            ],
            [
             0.1,
             "#c51b7d"
            ],
            [
             0.2,
             "#de77ae"
            ],
            [
             0.3,
             "#f1b6da"
            ],
            [
             0.4,
             "#fde0ef"
            ],
            [
             0.5,
             "#f7f7f7"
            ],
            [
             0.6,
             "#e6f5d0"
            ],
            [
             0.7,
             "#b8e186"
            ],
            [
             0.8,
             "#7fbc41"
            ],
            [
             0.9,
             "#4d9221"
            ],
            [
             1,
             "#276419"
            ]
           ],
           "sequential": [
            [
             0,
             "#0d0887"
            ],
            [
             0.1111111111111111,
             "#46039f"
            ],
            [
             0.2222222222222222,
             "#7201a8"
            ],
            [
             0.3333333333333333,
             "#9c179e"
            ],
            [
             0.4444444444444444,
             "#bd3786"
            ],
            [
             0.5555555555555556,
             "#d8576b"
            ],
            [
             0.6666666666666666,
             "#ed7953"
            ],
            [
             0.7777777777777778,
             "#fb9f3a"
            ],
            [
             0.8888888888888888,
             "#fdca26"
            ],
            [
             1,
             "#f0f921"
            ]
           ],
           "sequentialminus": [
            [
             0,
             "#0d0887"
            ],
            [
             0.1111111111111111,
             "#46039f"
            ],
            [
             0.2222222222222222,
             "#7201a8"
            ],
            [
             0.3333333333333333,
             "#9c179e"
            ],
            [
             0.4444444444444444,
             "#bd3786"
            ],
            [
             0.5555555555555556,
             "#d8576b"
            ],
            [
             0.6666666666666666,
             "#ed7953"
            ],
            [
             0.7777777777777778,
             "#fb9f3a"
            ],
            [
             0.8888888888888888,
             "#fdca26"
            ],
            [
             1,
             "#f0f921"
            ]
           ]
          },
          "colorway": [
           "#636efa",
           "#EF553B",
           "#00cc96",
           "#ab63fa",
           "#FFA15A",
           "#19d3f3",
           "#FF6692",
           "#B6E880",
           "#FF97FF",
           "#FECB52"
          ],
          "font": {
           "color": "#2a3f5f"
          },
          "geo": {
           "bgcolor": "white",
           "lakecolor": "white",
           "landcolor": "white",
           "showlakes": true,
           "showland": true,
           "subunitcolor": "#C8D4E3"
          },
          "hoverlabel": {
           "align": "left"
          },
          "hovermode": "closest",
          "mapbox": {
           "style": "light"
          },
          "paper_bgcolor": "white",
          "plot_bgcolor": "white",
          "polar": {
           "angularaxis": {
            "gridcolor": "#EBF0F8",
            "linecolor": "#EBF0F8",
            "ticks": ""
           },
           "bgcolor": "white",
           "radialaxis": {
            "gridcolor": "#EBF0F8",
            "linecolor": "#EBF0F8",
            "ticks": ""
           }
          },
          "scene": {
           "xaxis": {
            "backgroundcolor": "white",
            "gridcolor": "#DFE8F3",
            "gridwidth": 2,
            "linecolor": "#EBF0F8",
            "showbackground": true,
            "ticks": "",
            "zerolinecolor": "#EBF0F8"
           },
           "yaxis": {
            "backgroundcolor": "white",
            "gridcolor": "#DFE8F3",
            "gridwidth": 2,
            "linecolor": "#EBF0F8",
            "showbackground": true,
            "ticks": "",
            "zerolinecolor": "#EBF0F8"
           },
           "zaxis": {
            "backgroundcolor": "white",
            "gridcolor": "#DFE8F3",
            "gridwidth": 2,
            "linecolor": "#EBF0F8",
            "showbackground": true,
            "ticks": "",
            "zerolinecolor": "#EBF0F8"
           }
          },
          "shapedefaults": {
           "line": {
            "color": "#2a3f5f"
           }
          },
          "ternary": {
           "aaxis": {
            "gridcolor": "#DFE8F3",
            "linecolor": "#A2B1C6",
            "ticks": ""
           },
           "baxis": {
            "gridcolor": "#DFE8F3",
            "linecolor": "#A2B1C6",
            "ticks": ""
           },
           "bgcolor": "white",
           "caxis": {
            "gridcolor": "#DFE8F3",
            "linecolor": "#A2B1C6",
            "ticks": ""
           }
          },
          "title": {
           "x": 0.05
          },
          "xaxis": {
           "automargin": true,
           "gridcolor": "#EBF0F8",
           "linecolor": "#EBF0F8",
           "ticks": "",
           "title": {
            "standoff": 15
           },
           "zerolinecolor": "#EBF0F8",
           "zerolinewidth": 2
          },
          "yaxis": {
           "automargin": true,
           "gridcolor": "#EBF0F8",
           "linecolor": "#EBF0F8",
           "ticks": "",
           "title": {
            "standoff": 15
           },
           "zerolinecolor": "#EBF0F8",
           "zerolinewidth": 2
          }
         }
        },
        "title": {
         "font": {
          "color": "Black",
          "size": 22
         },
         "text": "<b>Topic Word Scores",
         "x": 0.5,
         "xanchor": "center",
         "yanchor": "top"
        },
        "width": 1000,
        "xaxis": {
         "anchor": "y",
         "domain": [
          0,
          0.175
         ],
         "showgrid": true
        },
        "xaxis2": {
         "anchor": "y2",
         "domain": [
          0.275,
          0.45
         ],
         "showgrid": true
        },
        "xaxis3": {
         "anchor": "y3",
         "domain": [
          0.55,
          0.7250000000000001
         ],
         "showgrid": true
        },
        "xaxis4": {
         "anchor": "y4",
         "domain": [
          0.825,
          1
         ],
         "showgrid": true
        },
        "xaxis5": {
         "anchor": "y5",
         "domain": [
          0,
          0.175
         ],
         "showgrid": true
        },
        "xaxis6": {
         "anchor": "y6",
         "domain": [
          0.275,
          0.45
         ],
         "showgrid": true
        },
        "xaxis7": {
         "anchor": "y7",
         "domain": [
          0.55,
          0.7250000000000001
         ],
         "showgrid": true
        },
        "xaxis8": {
         "anchor": "y8",
         "domain": [
          0.825,
          1
         ],
         "showgrid": true
        },
        "yaxis": {
         "anchor": "x",
         "domain": [
          0.6000000000000001,
          1
         ],
         "showgrid": true
        },
        "yaxis2": {
         "anchor": "x2",
         "domain": [
          0.6000000000000001,
          1
         ],
         "showgrid": true
        },
        "yaxis3": {
         "anchor": "x3",
         "domain": [
          0.6000000000000001,
          1
         ],
         "showgrid": true
        },
        "yaxis4": {
         "anchor": "x4",
         "domain": [
          0.6000000000000001,
          1
         ],
         "showgrid": true
        },
        "yaxis5": {
         "anchor": "x5",
         "domain": [
          0,
          0.4
         ],
         "showgrid": true
        },
        "yaxis6": {
         "anchor": "x6",
         "domain": [
          0,
          0.4
         ],
         "showgrid": true
        },
        "yaxis7": {
         "anchor": "x7",
         "domain": [
          0,
          0.4
         ],
         "showgrid": true
        },
        "yaxis8": {
         "anchor": "x8",
         "domain": [
          0,
          0.4
         ],
         "showgrid": true
        }
       }
      }
     },
     "metadata": {},
     "output_type": "display_data"
    }
   ],
   "source": [
    "topic_model.visualize_barchart()"
   ]
  },
  {
   "cell_type": "code",
   "execution_count": 13,
   "metadata": {},
   "outputs": [
    {
     "data": {
      "text/plain": [
       "article                          152\n",
       "unknown                          124\n",
       "Discussion                       108\n",
       "text                             103\n",
       "Society                           96\n",
       "Environment                       52\n",
       "AI                                52\n",
       "Space                             40\n",
       "video                             35\n",
       "Energy                            29\n",
       "Economics                         28\n",
       "Transport                         27\n",
       "Robotics                          26\n",
       "Biotech                           24\n",
       "Computing                         19\n",
       "meta                              14\n",
       "blog                              10\n",
       "image                             10\n",
       "article - misleading title         3\n",
       "misleading title                   2\n",
       "article - sensational title        2\n",
       "Rule 2 - Future focus              2\n",
       "other                              2\n",
       "MISLEADING TITLE                   2\n",
       "3DPrint                            2\n",
       "Slides                             1\n",
       "Medicine                           1\n",
       "reddit                             1\n",
       " article [sensationalist]          1\n",
       "image - unsourced                  1\n",
       "text (elysium spoilers)            1\n",
       "Misleading Title                   1\n",
       "text - sensational/misleading      1\n",
       "article - sensationalism           1\n",
       "Nanotech                           1\n",
       "Name: flair_text, dtype: int64"
      ]
     },
     "execution_count": 13,
     "metadata": {},
     "output_type": "execute_result"
    }
   ],
   "source": [
    "df['flair_text'].value_counts()"
   ]
  },
  {
   "cell_type": "code",
   "execution_count": 37,
   "metadata": {},
   "outputs": [
    {
     "data": {
      "text/html": [
       "<div>\n",
       "<style scoped>\n",
       "    .dataframe tbody tr th:only-of-type {\n",
       "        vertical-align: middle;\n",
       "    }\n",
       "\n",
       "    .dataframe tbody tr th {\n",
       "        vertical-align: top;\n",
       "    }\n",
       "\n",
       "    .dataframe thead th {\n",
       "        text-align: right;\n",
       "    }\n",
       "</style>\n",
       "<table border=\"1\" class=\"dataframe\">\n",
       "  <thead>\n",
       "    <tr style=\"text-align: right;\">\n",
       "      <th></th>\n",
       "      <th>flair_text</th>\n",
       "    </tr>\n",
       "  </thead>\n",
       "  <tbody>\n",
       "    <tr>\n",
       "      <th>article</th>\n",
       "      <td>152</td>\n",
       "    </tr>\n",
       "    <tr>\n",
       "      <th>unknown</th>\n",
       "      <td>124</td>\n",
       "    </tr>\n",
       "    <tr>\n",
       "      <th>Discussion</th>\n",
       "      <td>108</td>\n",
       "    </tr>\n",
       "    <tr>\n",
       "      <th>text</th>\n",
       "      <td>103</td>\n",
       "    </tr>\n",
       "    <tr>\n",
       "      <th>Society</th>\n",
       "      <td>96</td>\n",
       "    </tr>\n",
       "    <tr>\n",
       "      <th>Environment</th>\n",
       "      <td>52</td>\n",
       "    </tr>\n",
       "    <tr>\n",
       "      <th>AI</th>\n",
       "      <td>52</td>\n",
       "    </tr>\n",
       "    <tr>\n",
       "      <th>Space</th>\n",
       "      <td>40</td>\n",
       "    </tr>\n",
       "    <tr>\n",
       "      <th>video</th>\n",
       "      <td>35</td>\n",
       "    </tr>\n",
       "    <tr>\n",
       "      <th>Energy</th>\n",
       "      <td>29</td>\n",
       "    </tr>\n",
       "    <tr>\n",
       "      <th>Economics</th>\n",
       "      <td>28</td>\n",
       "    </tr>\n",
       "    <tr>\n",
       "      <th>Transport</th>\n",
       "      <td>27</td>\n",
       "    </tr>\n",
       "    <tr>\n",
       "      <th>Robotics</th>\n",
       "      <td>26</td>\n",
       "    </tr>\n",
       "    <tr>\n",
       "      <th>Biotech</th>\n",
       "      <td>24</td>\n",
       "    </tr>\n",
       "    <tr>\n",
       "      <th>Computing</th>\n",
       "      <td>19</td>\n",
       "    </tr>\n",
       "    <tr>\n",
       "      <th>meta</th>\n",
       "      <td>14</td>\n",
       "    </tr>\n",
       "    <tr>\n",
       "      <th>blog</th>\n",
       "      <td>10</td>\n",
       "    </tr>\n",
       "    <tr>\n",
       "      <th>image</th>\n",
       "      <td>10</td>\n",
       "    </tr>\n",
       "    <tr>\n",
       "      <th>article - misleading title</th>\n",
       "      <td>3</td>\n",
       "    </tr>\n",
       "    <tr>\n",
       "      <th>misleading title</th>\n",
       "      <td>2</td>\n",
       "    </tr>\n",
       "  </tbody>\n",
       "</table>\n",
       "</div>"
      ],
      "text/plain": [
       "                            flair_text\n",
       "article                            152\n",
       "unknown                            124\n",
       "Discussion                         108\n",
       "text                               103\n",
       "Society                             96\n",
       "Environment                         52\n",
       "AI                                  52\n",
       "Space                               40\n",
       "video                               35\n",
       "Energy                              29\n",
       "Economics                           28\n",
       "Transport                           27\n",
       "Robotics                            26\n",
       "Biotech                             24\n",
       "Computing                           19\n",
       "meta                                14\n",
       "blog                                10\n",
       "image                               10\n",
       "article - misleading title           3\n",
       "misleading title                     2"
      ]
     },
     "execution_count": 37,
     "metadata": {},
     "output_type": "execute_result"
    }
   ],
   "source": [
    "pd.DataFrame(df['flair_text'].value_counts()).head(20)"
   ]
  },
  {
   "cell_type": "code",
   "execution_count": 14,
   "metadata": {},
   "outputs": [
    {
     "data": {
      "text/plain": [
       "35"
      ]
     },
     "execution_count": 14,
     "metadata": {},
     "output_type": "execute_result"
    }
   ],
   "source": [
    "df['flair_text'].nunique()"
   ]
  },
  {
   "cell_type": "code",
   "execution_count": 32,
   "metadata": {},
   "outputs": [],
   "source": [
    "topics_to_labels = {-1: 'Miscellaneous', 0: 'AI', 1: 'Technology', 2: 'Society', 3: 'Robots, Jobs and Automation', 4: 'Climate Change', 5: 'Reddit', 6: 'Food', 7: 'Elon and Trump', 8: 'Renewable Energy', 9: 'Self Driving Cars', 10: 'Cryptocurrency', 11:'People', 12: 'Life Science', 13: 'Science Fiction', 14: 'Nuclear Energy', 15: 'Science Fiction', 16: 'Gender', 17: 'World Politics and Guns', 18: 'Aliens', 19: 'Income', 20: 'Covid Research', 21: 'Life Science', 22: 'Space Travel'}"
   ]
  },
  {
   "cell_type": "code",
   "execution_count": 34,
   "metadata": {},
   "outputs": [],
   "source": [
    "topics_per_class = topic_model.topics_per_class(posts, classes=flairs)\n",
    "topics_per_class['Self Labelled Topics'] = topics_per_class['Topic'].apply(lambda x: topics_to_labels[x])"
   ]
  },
  {
   "cell_type": "code",
   "execution_count": 35,
   "metadata": {},
   "outputs": [],
   "source": [
    "topics_per_class.to_csv('TopicsPerFlair.csv')"
   ]
  },
  {
   "cell_type": "code",
   "execution_count": 11,
   "metadata": {},
   "outputs": [
    {
     "data": {
      "application/vnd.plotly.v1+json": {
       "config": {
        "plotlyServerURL": "https://plot.ly"
       },
       "data": [
        {
         "hoverinfo": "text",
         "hovertext": [
          "<b>Topic 0</b><br>Words: so obvious, everyone listen, happens artificial, troubled, troubled people",
          "<b>Topic 0</b><br>Words: artificial intelligence, artificial, ai, intelligence, algorithms",
          "<b>Topic 0</b><br>Words: human limitations, unlock human, google ai, future unlock, ai outperforming",
          "<b>Topic 0</b><br>Words: ai, be, future, be end, techno racism",
          "<b>Topic 0</b><br>Words: ai, intelligence, analytical, artificial intelligence, human",
          "<b>Topic 0</b><br>Words: peoples, ai, simulate peoples, unable see, becoming norm",
          "<b>Topic 0</b><br>Words: ai, enough scale, scaling, equipped ai, equipped",
          "<b>Topic 0</b><br>Words: ai, intelligence, smarter, artificial intelligence, tasks",
          "<b>Topic 0</b><br>Words: clip, https, ai, watching, related",
          "<b>Topic 0</b><br>Words: affected racial, health care, millions black, people affected, care algorithms",
          "<b>Topic 0</b><br>Words: intelligence, artificial intelligence, artificial, ai, them"
         ],
         "marker": {
          "color": "#E69F00"
         },
         "name": "0_ai_artificial intelligence_intelligenc...",
         "orientation": "h",
         "type": "bar",
         "visible": true,
         "x": [
          3,
          29,
          1,
          6,
          3,
          2,
          2,
          5,
          2,
          1,
          14
         ],
         "y": [
          "unknown",
          "AI",
          "article - misleading title",
          "Society",
          "text",
          "video",
          "Robotics",
          "Discussion",
          "Computing",
          "Biotech",
          "article"
         ]
        },
        {
         "hoverinfo": "text",
         "hovertext": [
          "<b>Topic 1</b><br>Words: fi movie, technology, movie, sci, sci fi",
          "<b>Topic 1</b><br>Words: engineers are, real space, creating real, space elevator, are creating",
          "<b>Topic 1</b><br>Words: assistant, assist first, dead relatives, intelligence gaming, speak dead",
          "<b>Topic 1</b><br>Words: silicon valley, silicon, valley, coming, progress",
          "<b>Topic 1</b><br>Words: iphone, google, reality, apple, becoming",
          "<b>Topic 1</b><br>Words: cables, huge cables, got partners, commercialisation is, think cables",
          "<b>Topic 1</b><br>Words: phonebloks, upgradable, phone, seen phonebloks, totally upgradable",
          "<b>Topic 1</b><br>Words: vr, think, phones, phone, thing",
          "<b>Topic 1</b><br>Words: tv, tv channels, channels, apple, vr",
          "<b>Topic 1</b><br>Words: valley quest, forever benefit, quest live, quest, humanity whole",
          "<b>Topic 1</b><br>Words: reality, virtual reality, virtual, less, depressing"
         ],
         "marker": {
          "color": "#56B4E9"
         },
         "name": "1_reality_iphone_think_vr",
         "orientation": "h",
         "type": "bar",
         "visible": "legendonly",
         "x": [
          6,
          1,
          3,
          5,
          6,
          2,
          5,
          8,
          8,
          1,
          6
         ],
         "y": [
          "unknown",
          "Space",
          "AI",
          "Society",
          "text",
          "Energy",
          "video",
          "Discussion",
          "Computing",
          "Biotech",
          "article"
         ]
        },
        {
         "hoverinfo": "text",
         "hovertext": [
          "<b>Topic 2</b><br>Words: cities, world, economic, output, countries",
          "<b>Topic 2</b><br>Words: western, scientific, technological advancement, fermi, fermi paradox",
          "<b>Topic 2</b><br>Words: people, world, tech, civilization, poor",
          "<b>Topic 2</b><br>Words: people, robots, ubi, elysium, fuck",
          "<b>Topic 2</b><br>Words: world, people, human, one, never",
          "<b>Topic 2</b><br>Words: trees, cabinets idea, agriculture carbon, speeds excess, mph idea",
          "<b>Topic 2</b><br>Words: world, russia, people, cities, soviet",
          "<b>Topic 2</b><br>Words: people, probably, poor, decent, iq"
         ],
         "marker": {
          "color": "#009E73"
         },
         "name": "2_world_people_human_one",
         "orientation": "h",
         "type": "bar",
         "visible": "legendonly",
         "x": [
          3,
          1,
          8,
          1,
          24,
          1,
          8,
          2
         ],
         "y": [
          "unknown",
          "Space",
          "Society",
          "text (elysium spoilers)",
          "text",
          "Environment",
          "Discussion",
          "Economics"
         ]
        },
        {
         "hoverinfo": "text",
         "hovertext": [
          "<b>Topic 3</b><br>Words: robot, jobs, robots, anarcho capitalisms, new robot",
          "<b>Topic 3</b><br>Words: jobs create, ai take, new ones, create new, take jobs",
          "<b>Topic 3</b><br>Words: robots, automation, are, jobs, killer",
          "<b>Topic 3</b><br>Words: robots, hear, basic income, jobs, basic",
          "<b>Topic 3</b><br>Words: kuka, robot, man, machine, timoboll",
          "<b>Topic 3</b><br>Words: all jobs, robots will, don believe, say don, eat all",
          "<b>Topic 3</b><br>Words: robot, robots, jobs, wage, minimum wage",
          "<b>Topic 3</b><br>Words: asimov, harm, robots, robot, first",
          "<b>Topic 3</b><br>Words: discussion aware, top comments, say theory, encourage, encourage informed",
          "<b>Topic 3</b><br>Words: robots, robot, jobs, take jobs, take"
         ],
         "marker": {
          "color": "#F0E442"
         },
         "name": "3_robots_robot_jobs_take jobs",
         "orientation": "h",
         "type": "bar",
         "visible": "legendonly",
         "x": [
          5,
          1,
          4,
          1,
          4,
          1,
          13,
          1,
          1,
          14
         ],
         "y": [
          "unknown",
          "AI",
          "Society",
          "text",
          "video",
          "blog",
          "Robotics",
          "Discussion",
          "meta",
          "article"
         ]
        },
        {
         "hoverinfo": "text",
         "hovertext": [
          "<b>Topic 4</b><br>Words: climate, human, increasingly, computers, personality",
          "<b>Topic 4</b><br>Words: year, faster, occured, spent earth, budget",
          "<b>Topic 4</b><br>Words: climate, earth into, climate getting, bothered climate, policies could",
          "<b>Topic 4</b><br>Words: climate, goals economic, denial, even gold, meet paris",
          "<b>Topic 4</b><br>Words: venus project, is venus, venus, project, is",
          "<b>Topic 4</b><br>Words: climate, climate change, change, global, soil",
          "<b>Topic 4</b><br>Words: climate, https, https www, www, com",
          "<b>Topic 4</b><br>Words: capitalism have, got stomach, have got, requires end, end capitalism",
          "<b>Topic 4</b><br>Words: looming issues, civilisation, think civilisation, issues climate, civilisation survive",
          "<b>Topic 4</b><br>Words: trump looks, looks disaster, disaster planet, way donald, disaster"
         ],
         "marker": {
          "color": "#D55E00"
         },
         "name": "4_climate_climate change_change_human",
         "orientation": "h",
         "type": "bar",
         "visible": "legendonly",
         "x": [
          3,
          1,
          2,
          2,
          1,
          17,
          5,
          1,
          1,
          1
         ],
         "y": [
          "unknown",
          "other",
          "Society",
          "Energy",
          "video",
          "Environment",
          "Discussion",
          "Economics",
          "Rule 2 - Future focus",
          "article"
         ]
        },
        {
         "hoverinfo": "text",
         "hovertext": [
          "<b>Topic 5</b><br>Words: not ok, is not, opinion is, ok, opinion",
          "<b>Topic 5</b><br>Words: black, nuanced black, consistently thought, provoking, subscribe explores",
          "<b>Topic 5</b><br>Words: reddit, sub, future, community, posts",
          "<b>Topic 5</b><br>Words: are true, true yet, facts are, buzzfeed facts, buzzfeed",
          "<b>Topic 5</b><br>Words: around anywhere, earth largest, largest subreddit, subreddit apply, game earth",
          "<b>Topic 5</b><br>Words: sub, reddit, posts, https, ideas",
          "<b>Topic 5</b><br>Words: futurology, sub, posts, subreddits, flairs",
          "<b>Topic 5</b><br>Words: journal, aal, ideas aal, most erudite, new journal"
         ],
         "marker": {
          "color": "#0072B2"
         },
         "name": "5_reddit_sub_posts_futurology",
         "orientation": "h",
         "type": "bar",
         "visible": "legendonly",
         "x": [
          1,
          2,
          12,
          1,
          1,
          11,
          5,
          1
         ],
         "y": [
          "AI",
          "Society",
          "text",
          "video",
          "Environment",
          "Discussion",
          "meta",
          "article"
         ]
        },
        {
         "hoverinfo": "text",
         "hovertext": [
          "<b>Topic 6</b><br>Words: food packaging, future food, packaging, food, future",
          "<b>Topic 6</b><br>Words: top chef, veganism, add water, necessary change, just add",
          "<b>Topic 6</b><br>Words: meat, dairy, obsolete, vegan, animal",
          "<b>Topic 6</b><br>Words: cost lab, grown burger, burger patty, drops, patty",
          "<b>Topic 6</b><br>Words: world went, future vegan, says future, went vegetarian, trek says",
          "<b>Topic 6</b><br>Words: vertical farms, let make, do make, make clear, farms do",
          "<b>Topic 6</b><br>Words: meat, dairy, planet, are, lab",
          "<b>Topic 6</b><br>Words: meat, filet, daily update, grow cattle, next meat",
          "<b>Topic 6</b><br>Words: meat, milk, grown meat, lab grown, lab",
          "<b>Topic 6</b><br>Words: camp, tongues tool, using invisible, sugar foods, sugar"
         ],
         "marker": {
          "color": "#CC79A7"
         },
         "name": "6_meat_dairy_lab_vegan",
         "orientation": "h",
         "type": "bar",
         "visible": "legendonly",
         "x": [
          1,
          2,
          7,
          1,
          2,
          1,
          7,
          3,
          5,
          1
         ],
         "y": [
          "image",
          "unknown",
          "Society",
          "article - sensationalism",
          "video",
          "blog",
          "Environment",
          "Discussion",
          "Biotech",
          "article"
         ]
        },
        {
         "hoverinfo": "text",
         "hovertext": [
          "<b>Topic 7</b><br>Words: musk, elon musk, elon, spacex, is",
          "<b>Topic 7</b><br>Words: elon musk, musk, elon, spacex, spacex starship",
          "<b>Topic 7</b><br>Words: musk, elon musk, elon, security, musk openai",
          "<b>Topic 7</b><br>Words: elon musk, elon, musk, journalism, kara swisher",
          "<b>Topic 7</b><br>Words: musk, elon musk, elon, trump, rico",
          "<b>Topic 7</b><br>Words: rocket race, beats elon, spacex reusable, bezos beats, reusable",
          "<b>Topic 7</b><br>Words: elon musk, elon, musk, slam, cold hard",
          "<b>Topic 7</b><br>Words: invented bitcoin, now linked, mystery who, linked mystery, who invented",
          "<b>Topic 7</b><br>Words: musk, elon musk, elon, hyperloop, delete humans"
         ],
         "marker": {
          "color": "#E69F00"
         },
         "name": "7_musk_elon musk_elon_spacex",
         "orientation": "h",
         "type": "bar",
         "visible": "legendonly",
         "x": [
          10,
          6,
          4,
          2,
          1,
          1,
          2,
          1,
          3
         ],
         "y": [
          "unknown",
          "Space",
          "AI",
          "Society",
          "Discussion",
          "MISLEADING TITLE",
          "Transport",
          "Economics",
          "article"
         ]
        },
        {
         "hoverinfo": "text",
         "hovertext": [
          "<b>Topic 8</b><br>Words: eugenicist, eugenicist eliminating, nikola tesla, nikola, eliminating undesirables",
          "<b>Topic 8</b><br>Words: powered cars, forget evs, are here, evs solar, cars are",
          "<b>Topic 8</b><br>Words: wind, solar, evs, hydrogen, fuel future",
          "<b>Topic 8</b><br>Words: fuel, solar, cars, lead, tesla",
          "<b>Topic 8</b><br>Words: blah, solar, tesla, blah blah, destroy",
          "<b>Topic 8</b><br>Words: hydrogen, tesla, hydrogen cars, auto, fuel",
          "<b>Topic 8</b><br>Words: solar, tesla, solar car, car, power"
         ],
         "marker": {
          "color": "#56B4E9"
         },
         "name": "8_solar_tesla_fuel_hydrogen",
         "orientation": "h",
         "type": "bar",
         "visible": "legendonly",
         "x": [
          1,
          1,
          7,
          3,
          2,
          5,
          9
         ],
         "y": [
          "unknown",
          "Society",
          "Energy",
          "Environment",
          "Discussion",
          "Transport",
          "article"
         ]
        },
        {
         "hoverinfo": "text",
         "hovertext": [
          "<b>Topic 9</b><br>Words: going right, ama going, vehicles happen, renault nissan, title ceo",
          "<b>Topic 9</b><br>Words: driving, become antisocial, ethics self, city become, antisocial",
          "<b>Topic 9</b><br>Words: driving, self driving, self, cars, traffic",
          "<b>Topic 9</b><br>Words: car, driving, self driving, vehicles, road",
          "<b>Topic 9</b><br>Words: self driving, driving, self, car, vehicles",
          "<b>Topic 9</b><br>Words: car, self driving, driving, self, driving cars"
         ],
         "marker": {
          "color": "#009E73"
         },
         "name": "9_driving_self driving_self_car",
         "orientation": "h",
         "type": "bar",
         "visible": "legendonly",
         "x": [
          1,
          2,
          2,
          2,
          12,
          7
         ],
         "y": [
          "reddit",
          "unknown",
          "text",
          "Discussion",
          "Transport",
          "article"
         ]
        }
       ],
       "layout": {
        "height": 900,
        "hoverlabel": {
         "bgcolor": "white",
         "font": {
          "family": "Rockwell",
          "size": 16
         }
        },
        "legend": {
         "title": {
          "text": "<b>Global Topic Representation"
         }
        },
        "template": {
         "data": {
          "bar": [
           {
            "error_x": {
             "color": "rgb(36,36,36)"
            },
            "error_y": {
             "color": "rgb(36,36,36)"
            },
            "marker": {
             "line": {
              "color": "white",
              "width": 0.5
             },
             "pattern": {
              "fillmode": "overlay",
              "size": 10,
              "solidity": 0.2
             }
            },
            "type": "bar"
           }
          ],
          "barpolar": [
           {
            "marker": {
             "line": {
              "color": "white",
              "width": 0.5
             },
             "pattern": {
              "fillmode": "overlay",
              "size": 10,
              "solidity": 0.2
             }
            },
            "type": "barpolar"
           }
          ],
          "carpet": [
           {
            "aaxis": {
             "endlinecolor": "rgb(36,36,36)",
             "gridcolor": "white",
             "linecolor": "white",
             "minorgridcolor": "white",
             "startlinecolor": "rgb(36,36,36)"
            },
            "baxis": {
             "endlinecolor": "rgb(36,36,36)",
             "gridcolor": "white",
             "linecolor": "white",
             "minorgridcolor": "white",
             "startlinecolor": "rgb(36,36,36)"
            },
            "type": "carpet"
           }
          ],
          "choropleth": [
           {
            "colorbar": {
             "outlinewidth": 1,
             "tickcolor": "rgb(36,36,36)",
             "ticks": "outside"
            },
            "type": "choropleth"
           }
          ],
          "contour": [
           {
            "colorbar": {
             "outlinewidth": 1,
             "tickcolor": "rgb(36,36,36)",
             "ticks": "outside"
            },
            "colorscale": [
             [
              0,
              "#440154"
             ],
             [
              0.1111111111111111,
              "#482878"
             ],
             [
              0.2222222222222222,
              "#3e4989"
             ],
             [
              0.3333333333333333,
              "#31688e"
             ],
             [
              0.4444444444444444,
              "#26828e"
             ],
             [
              0.5555555555555556,
              "#1f9e89"
             ],
             [
              0.6666666666666666,
              "#35b779"
             ],
             [
              0.7777777777777778,
              "#6ece58"
             ],
             [
              0.8888888888888888,
              "#b5de2b"
             ],
             [
              1,
              "#fde725"
             ]
            ],
            "type": "contour"
           }
          ],
          "contourcarpet": [
           {
            "colorbar": {
             "outlinewidth": 1,
             "tickcolor": "rgb(36,36,36)",
             "ticks": "outside"
            },
            "type": "contourcarpet"
           }
          ],
          "heatmap": [
           {
            "colorbar": {
             "outlinewidth": 1,
             "tickcolor": "rgb(36,36,36)",
             "ticks": "outside"
            },
            "colorscale": [
             [
              0,
              "#440154"
             ],
             [
              0.1111111111111111,
              "#482878"
             ],
             [
              0.2222222222222222,
              "#3e4989"
             ],
             [
              0.3333333333333333,
              "#31688e"
             ],
             [
              0.4444444444444444,
              "#26828e"
             ],
             [
              0.5555555555555556,
              "#1f9e89"
             ],
             [
              0.6666666666666666,
              "#35b779"
             ],
             [
              0.7777777777777778,
              "#6ece58"
             ],
             [
              0.8888888888888888,
              "#b5de2b"
             ],
             [
              1,
              "#fde725"
             ]
            ],
            "type": "heatmap"
           }
          ],
          "heatmapgl": [
           {
            "colorbar": {
             "outlinewidth": 1,
             "tickcolor": "rgb(36,36,36)",
             "ticks": "outside"
            },
            "colorscale": [
             [
              0,
              "#440154"
             ],
             [
              0.1111111111111111,
              "#482878"
             ],
             [
              0.2222222222222222,
              "#3e4989"
             ],
             [
              0.3333333333333333,
              "#31688e"
             ],
             [
              0.4444444444444444,
              "#26828e"
             ],
             [
              0.5555555555555556,
              "#1f9e89"
             ],
             [
              0.6666666666666666,
              "#35b779"
             ],
             [
              0.7777777777777778,
              "#6ece58"
             ],
             [
              0.8888888888888888,
              "#b5de2b"
             ],
             [
              1,
              "#fde725"
             ]
            ],
            "type": "heatmapgl"
           }
          ],
          "histogram": [
           {
            "marker": {
             "line": {
              "color": "white",
              "width": 0.6
             }
            },
            "type": "histogram"
           }
          ],
          "histogram2d": [
           {
            "colorbar": {
             "outlinewidth": 1,
             "tickcolor": "rgb(36,36,36)",
             "ticks": "outside"
            },
            "colorscale": [
             [
              0,
              "#440154"
             ],
             [
              0.1111111111111111,
              "#482878"
             ],
             [
              0.2222222222222222,
              "#3e4989"
             ],
             [
              0.3333333333333333,
              "#31688e"
             ],
             [
              0.4444444444444444,
              "#26828e"
             ],
             [
              0.5555555555555556,
              "#1f9e89"
             ],
             [
              0.6666666666666666,
              "#35b779"
             ],
             [
              0.7777777777777778,
              "#6ece58"
             ],
             [
              0.8888888888888888,
              "#b5de2b"
             ],
             [
              1,
              "#fde725"
             ]
            ],
            "type": "histogram2d"
           }
          ],
          "histogram2dcontour": [
           {
            "colorbar": {
             "outlinewidth": 1,
             "tickcolor": "rgb(36,36,36)",
             "ticks": "outside"
            },
            "colorscale": [
             [
              0,
              "#440154"
             ],
             [
              0.1111111111111111,
              "#482878"
             ],
             [
              0.2222222222222222,
              "#3e4989"
             ],
             [
              0.3333333333333333,
              "#31688e"
             ],
             [
              0.4444444444444444,
              "#26828e"
             ],
             [
              0.5555555555555556,
              "#1f9e89"
             ],
             [
              0.6666666666666666,
              "#35b779"
             ],
             [
              0.7777777777777778,
              "#6ece58"
             ],
             [
              0.8888888888888888,
              "#b5de2b"
             ],
             [
              1,
              "#fde725"
             ]
            ],
            "type": "histogram2dcontour"
           }
          ],
          "mesh3d": [
           {
            "colorbar": {
             "outlinewidth": 1,
             "tickcolor": "rgb(36,36,36)",
             "ticks": "outside"
            },
            "type": "mesh3d"
           }
          ],
          "parcoords": [
           {
            "line": {
             "colorbar": {
              "outlinewidth": 1,
              "tickcolor": "rgb(36,36,36)",
              "ticks": "outside"
             }
            },
            "type": "parcoords"
           }
          ],
          "pie": [
           {
            "automargin": true,
            "type": "pie"
           }
          ],
          "scatter": [
           {
            "fillpattern": {
             "fillmode": "overlay",
             "size": 10,
             "solidity": 0.2
            },
            "type": "scatter"
           }
          ],
          "scatter3d": [
           {
            "line": {
             "colorbar": {
              "outlinewidth": 1,
              "tickcolor": "rgb(36,36,36)",
              "ticks": "outside"
             }
            },
            "marker": {
             "colorbar": {
              "outlinewidth": 1,
              "tickcolor": "rgb(36,36,36)",
              "ticks": "outside"
             }
            },
            "type": "scatter3d"
           }
          ],
          "scattercarpet": [
           {
            "marker": {
             "colorbar": {
              "outlinewidth": 1,
              "tickcolor": "rgb(36,36,36)",
              "ticks": "outside"
             }
            },
            "type": "scattercarpet"
           }
          ],
          "scattergeo": [
           {
            "marker": {
             "colorbar": {
              "outlinewidth": 1,
              "tickcolor": "rgb(36,36,36)",
              "ticks": "outside"
             }
            },
            "type": "scattergeo"
           }
          ],
          "scattergl": [
           {
            "marker": {
             "colorbar": {
              "outlinewidth": 1,
              "tickcolor": "rgb(36,36,36)",
              "ticks": "outside"
             }
            },
            "type": "scattergl"
           }
          ],
          "scattermapbox": [
           {
            "marker": {
             "colorbar": {
              "outlinewidth": 1,
              "tickcolor": "rgb(36,36,36)",
              "ticks": "outside"
             }
            },
            "type": "scattermapbox"
           }
          ],
          "scatterpolar": [
           {
            "marker": {
             "colorbar": {
              "outlinewidth": 1,
              "tickcolor": "rgb(36,36,36)",
              "ticks": "outside"
             }
            },
            "type": "scatterpolar"
           }
          ],
          "scatterpolargl": [
           {
            "marker": {
             "colorbar": {
              "outlinewidth": 1,
              "tickcolor": "rgb(36,36,36)",
              "ticks": "outside"
             }
            },
            "type": "scatterpolargl"
           }
          ],
          "scatterternary": [
           {
            "marker": {
             "colorbar": {
              "outlinewidth": 1,
              "tickcolor": "rgb(36,36,36)",
              "ticks": "outside"
             }
            },
            "type": "scatterternary"
           }
          ],
          "surface": [
           {
            "colorbar": {
             "outlinewidth": 1,
             "tickcolor": "rgb(36,36,36)",
             "ticks": "outside"
            },
            "colorscale": [
             [
              0,
              "#440154"
             ],
             [
              0.1111111111111111,
              "#482878"
             ],
             [
              0.2222222222222222,
              "#3e4989"
             ],
             [
              0.3333333333333333,
              "#31688e"
             ],
             [
              0.4444444444444444,
              "#26828e"
             ],
             [
              0.5555555555555556,
              "#1f9e89"
             ],
             [
              0.6666666666666666,
              "#35b779"
             ],
             [
              0.7777777777777778,
              "#6ece58"
             ],
             [
              0.8888888888888888,
              "#b5de2b"
             ],
             [
              1,
              "#fde725"
             ]
            ],
            "type": "surface"
           }
          ],
          "table": [
           {
            "cells": {
             "fill": {
              "color": "rgb(237,237,237)"
             },
             "line": {
              "color": "white"
             }
            },
            "header": {
             "fill": {
              "color": "rgb(217,217,217)"
             },
             "line": {
              "color": "white"
             }
            },
            "type": "table"
           }
          ]
         },
         "layout": {
          "annotationdefaults": {
           "arrowhead": 0,
           "arrowwidth": 1
          },
          "autotypenumbers": "strict",
          "coloraxis": {
           "colorbar": {
            "outlinewidth": 1,
            "tickcolor": "rgb(36,36,36)",
            "ticks": "outside"
           }
          },
          "colorscale": {
           "diverging": [
            [
             0,
             "rgb(103,0,31)"
            ],
            [
             0.1,
             "rgb(178,24,43)"
            ],
            [
             0.2,
             "rgb(214,96,77)"
            ],
            [
             0.3,
             "rgb(244,165,130)"
            ],
            [
             0.4,
             "rgb(253,219,199)"
            ],
            [
             0.5,
             "rgb(247,247,247)"
            ],
            [
             0.6,
             "rgb(209,229,240)"
            ],
            [
             0.7,
             "rgb(146,197,222)"
            ],
            [
             0.8,
             "rgb(67,147,195)"
            ],
            [
             0.9,
             "rgb(33,102,172)"
            ],
            [
             1,
             "rgb(5,48,97)"
            ]
           ],
           "sequential": [
            [
             0,
             "#440154"
            ],
            [
             0.1111111111111111,
             "#482878"
            ],
            [
             0.2222222222222222,
             "#3e4989"
            ],
            [
             0.3333333333333333,
             "#31688e"
            ],
            [
             0.4444444444444444,
             "#26828e"
            ],
            [
             0.5555555555555556,
             "#1f9e89"
            ],
            [
             0.6666666666666666,
             "#35b779"
            ],
            [
             0.7777777777777778,
             "#6ece58"
            ],
            [
             0.8888888888888888,
             "#b5de2b"
            ],
            [
             1,
             "#fde725"
            ]
           ],
           "sequentialminus": [
            [
             0,
             "#440154"
            ],
            [
             0.1111111111111111,
             "#482878"
            ],
            [
             0.2222222222222222,
             "#3e4989"
            ],
            [
             0.3333333333333333,
             "#31688e"
            ],
            [
             0.4444444444444444,
             "#26828e"
            ],
            [
             0.5555555555555556,
             "#1f9e89"
            ],
            [
             0.6666666666666666,
             "#35b779"
            ],
            [
             0.7777777777777778,
             "#6ece58"
            ],
            [
             0.8888888888888888,
             "#b5de2b"
            ],
            [
             1,
             "#fde725"
            ]
           ]
          },
          "colorway": [
           "#1F77B4",
           "#FF7F0E",
           "#2CA02C",
           "#D62728",
           "#9467BD",
           "#8C564B",
           "#E377C2",
           "#7F7F7F",
           "#BCBD22",
           "#17BECF"
          ],
          "font": {
           "color": "rgb(36,36,36)"
          },
          "geo": {
           "bgcolor": "white",
           "lakecolor": "white",
           "landcolor": "white",
           "showlakes": true,
           "showland": true,
           "subunitcolor": "white"
          },
          "hoverlabel": {
           "align": "left"
          },
          "hovermode": "closest",
          "mapbox": {
           "style": "light"
          },
          "paper_bgcolor": "white",
          "plot_bgcolor": "white",
          "polar": {
           "angularaxis": {
            "gridcolor": "rgb(232,232,232)",
            "linecolor": "rgb(36,36,36)",
            "showgrid": false,
            "showline": true,
            "ticks": "outside"
           },
           "bgcolor": "white",
           "radialaxis": {
            "gridcolor": "rgb(232,232,232)",
            "linecolor": "rgb(36,36,36)",
            "showgrid": false,
            "showline": true,
            "ticks": "outside"
           }
          },
          "scene": {
           "xaxis": {
            "backgroundcolor": "white",
            "gridcolor": "rgb(232,232,232)",
            "gridwidth": 2,
            "linecolor": "rgb(36,36,36)",
            "showbackground": true,
            "showgrid": false,
            "showline": true,
            "ticks": "outside",
            "zeroline": false,
            "zerolinecolor": "rgb(36,36,36)"
           },
           "yaxis": {
            "backgroundcolor": "white",
            "gridcolor": "rgb(232,232,232)",
            "gridwidth": 2,
            "linecolor": "rgb(36,36,36)",
            "showbackground": true,
            "showgrid": false,
            "showline": true,
            "ticks": "outside",
            "zeroline": false,
            "zerolinecolor": "rgb(36,36,36)"
           },
           "zaxis": {
            "backgroundcolor": "white",
            "gridcolor": "rgb(232,232,232)",
            "gridwidth": 2,
            "linecolor": "rgb(36,36,36)",
            "showbackground": true,
            "showgrid": false,
            "showline": true,
            "ticks": "outside",
            "zeroline": false,
            "zerolinecolor": "rgb(36,36,36)"
           }
          },
          "shapedefaults": {
           "fillcolor": "black",
           "line": {
            "width": 0
           },
           "opacity": 0.3
          },
          "ternary": {
           "aaxis": {
            "gridcolor": "rgb(232,232,232)",
            "linecolor": "rgb(36,36,36)",
            "showgrid": false,
            "showline": true,
            "ticks": "outside"
           },
           "baxis": {
            "gridcolor": "rgb(232,232,232)",
            "linecolor": "rgb(36,36,36)",
            "showgrid": false,
            "showline": true,
            "ticks": "outside"
           },
           "bgcolor": "white",
           "caxis": {
            "gridcolor": "rgb(232,232,232)",
            "linecolor": "rgb(36,36,36)",
            "showgrid": false,
            "showline": true,
            "ticks": "outside"
           }
          },
          "title": {
           "x": 0.05
          },
          "xaxis": {
           "automargin": true,
           "gridcolor": "rgb(232,232,232)",
           "linecolor": "rgb(36,36,36)",
           "showgrid": false,
           "showline": true,
           "ticks": "outside",
           "title": {
            "standoff": 15
           },
           "zeroline": false,
           "zerolinecolor": "rgb(36,36,36)"
          },
          "yaxis": {
           "automargin": true,
           "gridcolor": "rgb(232,232,232)",
           "linecolor": "rgb(36,36,36)",
           "showgrid": false,
           "showline": true,
           "ticks": "outside",
           "title": {
            "standoff": 15
           },
           "zeroline": false,
           "zerolinecolor": "rgb(36,36,36)"
          }
         }
        },
        "title": {
         "font": {
          "color": "Black",
          "size": 22
         },
         "text": "<b>Topics per Class",
         "x": 0.4,
         "xanchor": "center",
         "y": 0.95,
         "yanchor": "top"
        },
        "width": 1250,
        "xaxis": {
         "showgrid": true,
         "title": {
          "text": "Frequency"
         }
        },
        "yaxis": {
         "showgrid": true,
         "title": {
          "text": "Class"
         }
        }
       }
      }
     },
     "metadata": {},
     "output_type": "display_data"
    }
   ],
   "source": [
    "topic_model.visualize_topics_per_class(topics_per_class)"
   ]
  },
  {
   "cell_type": "code",
   "execution_count": 9,
   "metadata": {},
   "outputs": [],
   "source": [
    "with open('saved_model.pickle', 'wb') as f:\n",
    "    pickle.dump(topic_model, f)"
   ]
  },
  {
   "cell_type": "code",
   "execution_count": 27,
   "metadata": {},
   "outputs": [],
   "source": [
    "topics_to_labels = {-1: 'Miscellaneous', 0: 'AI', 1: 'Technology', 2: 'Society', 3: 'Robots, Jobs and Automation', 4: 'Climate Change', 5: 'Reddit', 6: 'Food', 7: 'Elon and Trump', 8: 'Renewable Energy', 9: 'Self Driving Cars', 10: 'Cryptocurrency', 11:'People', 12: 'Life Science', 13: 'Science Fiction', 14: 'Nuclear Energy', 15: 'Science Fiction', 16: 'Gender', 17: 'World Politics and Guns', 18: 'Aliens', 19: 'Income', 20: 'Covid Research', 21: 'Life Science', 22: 'Space Travel'}"
   ]
  },
  {
   "cell_type": "code",
   "execution_count": 28,
   "metadata": {},
   "outputs": [],
   "source": [
    "df['Topics'] = df['selftext'].apply(lambda x: topic_model.find_topics(x)[0][0])\n",
    "df['Self Labelled Topics'] = df['Topics'].apply(lambda x: topics_to_labels[x])\n",
    "#save to csv\n",
    "df.to_csv('Labelled_TM_Futurology_submissions.csv')"
   ]
  },
  {
   "cell_type": "code",
   "execution_count": 29,
   "metadata": {},
   "outputs": [],
   "source": [
    "labels = pd.DataFrame()\n",
    "labels[['selftext', 'flair_text', 'Self Labelled Topics']] = df[['selftext', 'flair_text', 'Self Labelled Topics']]\n",
    "labels.to_csv('LabelsAndFlairsFuturology.csv')"
   ]
  }
 ],
 "metadata": {
  "kernelspec": {
   "display_name": "Python 3",
   "language": "python",
   "name": "python3"
  },
  "language_info": {
   "codemirror_mode": {
    "name": "ipython",
    "version": 3
   },
   "file_extension": ".py",
   "mimetype": "text/x-python",
   "name": "python",
   "nbconvert_exporter": "python",
   "pygments_lexer": "ipython3",
   "version": "3.10.6 (main, Aug 30 2022, 04:58:14) [Clang 13.1.6 (clang-1316.0.21.2.5)]"
  },
  "orig_nbformat": 4,
  "vscode": {
   "interpreter": {
    "hash": "b0fa6594d8f4cbf19f97940f81e996739fb7646882a419484c72d19e05852a7e"
   }
  }
 },
 "nbformat": 4,
 "nbformat_minor": 2
}
